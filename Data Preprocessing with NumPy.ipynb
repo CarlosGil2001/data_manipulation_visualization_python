{
 "cells": [
  {
   "cell_type": "markdown",
   "id": "279de868",
   "metadata": {},
   "source": [
    "### NumPy Basics"
   ]
  },
  {
   "cell_type": "code",
   "execution_count": 2,
   "id": "e76bfea5",
   "metadata": {},
   "outputs": [],
   "source": [
    "# Instalar y Actualiza NumPy \n",
    "# pip install numpy\n",
    "# pip install numpy --upgrade"
   ]
  },
  {
   "cell_type": "code",
   "execution_count": 3,
   "id": "caa00474",
   "metadata": {},
   "outputs": [],
   "source": [
    "# Importar NumPy\n",
    "import numpy as np"
   ]
  },
  {
   "cell_type": "code",
   "execution_count": 4,
   "id": "c32c1e09",
   "metadata": {},
   "outputs": [],
   "source": [
    "#     1     - scalar   - 0-D\n",
    "# [1,2,3]   - vector   - 1-D\n",
    "# |0,2,3|   - mtraix   - 2-D\n",
    "# |4,9,7|"
   ]
  },
  {
   "cell_type": "code",
   "execution_count": 5,
   "id": "967ccc66",
   "metadata": {},
   "outputs": [
    {
     "data": {
      "text/plain": [
       "array([1, 2, 3])"
      ]
     },
     "execution_count": 5,
     "metadata": {},
     "output_type": "execute_result"
    }
   ],
   "source": [
    "# Crear un ARRAY con 1-D\n",
    "array_a = np.array([1,2,3]) # 1-D\n",
    "\n",
    "# Mostramos el contenido\n",
    "array_a"
   ]
  },
  {
   "cell_type": "code",
   "execution_count": 6,
   "id": "4aa54bdd",
   "metadata": {},
   "outputs": [
    {
     "data": {
      "text/plain": [
       "array([[1, 2, 3],\n",
       "       [4, 5, 6]])"
      ]
     },
     "execution_count": 6,
     "metadata": {},
     "output_type": "execute_result"
    }
   ],
   "source": [
    "# Crear un ARRAY con 2-D\n",
    "array_b=np.array([[1,2,3],[4,5,6]])\n",
    "# Mostramos el contenido\n",
    "array_b"
   ]
  },
  {
   "cell_type": "markdown",
   "id": "41856dab",
   "metadata": {},
   "source": [
    "### Ndarrays"
   ]
  },
  {
   "cell_type": "code",
   "execution_count": 7,
   "id": "9fc4fa76",
   "metadata": {},
   "outputs": [],
   "source": [
    "# Ndarrays: puede almacenar múltiples valores númericos, para operaciones computacionales\n",
    "# ndarrays = N-Dimensional array"
   ]
  },
  {
   "cell_type": "code",
   "execution_count": 8,
   "id": "86216b6b",
   "metadata": {},
   "outputs": [
    {
     "data": {
      "text/plain": [
       "array([1, 2, 3])"
      ]
     },
     "execution_count": 8,
     "metadata": {},
     "output_type": "execute_result"
    }
   ],
   "source": [
    "# Creamos un ARRAY\n",
    "array = np.array([1,2,3])\n",
    "# Mostramos el contenido\n",
    "array"
   ]
  },
  {
   "cell_type": "code",
   "execution_count": 9,
   "id": "9037721d",
   "metadata": {},
   "outputs": [
    {
     "data": {
      "text/plain": [
       "numpy.ndarray"
      ]
     },
     "execution_count": 9,
     "metadata": {},
     "output_type": "execute_result"
    }
   ],
   "source": [
    "# Tipo de dato\n",
    "type(array)\n",
    "# es de tipo ndarray"
   ]
  },
  {
   "cell_type": "code",
   "execution_count": 10,
   "id": "da0ddc14",
   "metadata": {},
   "outputs": [
    {
     "data": {
      "text/plain": [
       "(3,)"
      ]
     },
     "execution_count": 10,
     "metadata": {},
     "output_type": "execute_result"
    }
   ],
   "source": [
    "#Mostrar el tamaño del ARRAY\n",
    "array.shape\n",
    "#Tenemos un ARRAY unidimensional"
   ]
  },
  {
   "cell_type": "code",
   "execution_count": 11,
   "id": "c92a3982",
   "metadata": {},
   "outputs": [
    {
     "data": {
      "text/plain": [
       "array([[ 7,  8,  9],\n",
       "       [10, 11, 12]])"
      ]
     },
     "execution_count": 11,
     "metadata": {},
     "output_type": "execute_result"
    }
   ],
   "source": [
    "# Crear un ARRAY con 2-D\n",
    "array_b=np.array([[7,8,9],[10,11,12]])\n",
    "# Mostramos el contenido\n",
    "array_b"
   ]
  },
  {
   "cell_type": "code",
   "execution_count": 12,
   "id": "4b73e3d8",
   "metadata": {},
   "outputs": [
    {
     "data": {
      "text/plain": [
       "numpy.ndarray"
      ]
     },
     "execution_count": 12,
     "metadata": {},
     "output_type": "execute_result"
    }
   ],
   "source": [
    "# Tipo de dato\n",
    "type(array_b)\n",
    "# es de tipo ndarray"
   ]
  },
  {
   "cell_type": "code",
   "execution_count": 13,
   "id": "5adc3ef9",
   "metadata": {},
   "outputs": [
    {
     "data": {
      "text/plain": [
       "(2, 3)"
      ]
     },
     "execution_count": 13,
     "metadata": {},
     "output_type": "execute_result"
    }
   ],
   "source": [
    "# Mostrar el tamaño del ARRAY\n",
    "array_b.shape\n",
    "#(2 filas, 3 valores o columnas)"
   ]
  },
  {
   "cell_type": "code",
   "execution_count": 14,
   "id": "5501702e",
   "metadata": {},
   "outputs": [
    {
     "name": "stdout",
     "output_type": "stream",
     "text": [
      "2\n",
      "3\n"
     ]
    }
   ],
   "source": [
    "# Obtener filas o columnas de un ARRAY\n",
    "print(array_b.shape[0]) # filas\n",
    "print(array_b.shape[1]) # columnas"
   ]
  },
  {
   "cell_type": "markdown",
   "id": "5c7e4e0e",
   "metadata": {},
   "source": [
    "### Arrays vs. Listas "
   ]
  },
  {
   "cell_type": "code",
   "execution_count": 15,
   "id": "caadec08",
   "metadata": {},
   "outputs": [
    {
     "data": {
      "text/plain": [
       "[1, 2, 3, 4, 5, 6]"
      ]
     },
     "execution_count": 15,
     "metadata": {},
     "output_type": "execute_result"
    }
   ],
   "source": [
    "# Definimos una LISTA\n",
    "list_a = [1,2,3,4,5,6]\n",
    "# Mostramos el contenido\n",
    "list_a"
   ]
  },
  {
   "cell_type": "code",
   "execution_count": 16,
   "id": "946657cf",
   "metadata": {},
   "outputs": [
    {
     "data": {
      "text/plain": [
       "6"
      ]
     },
     "execution_count": 16,
     "metadata": {},
     "output_type": "execute_result"
    }
   ],
   "source": [
    "# Longitud de la LISTA\n",
    "len(list_a)"
   ]
  },
  {
   "cell_type": "code",
   "execution_count": 17,
   "id": "1c2ec892",
   "metadata": {},
   "outputs": [
    {
     "data": {
      "text/plain": [
       "[[1, 2, 3], [4, 5, 6]]"
      ]
     },
     "execution_count": 17,
     "metadata": {},
     "output_type": "execute_result"
    }
   ],
   "source": [
    "# Definir una LISTA de LISTA\n",
    "list_b=[[1,2,3],[4,5,6]]\n",
    "# Mostramos el contenido\n",
    "list_b"
   ]
  },
  {
   "cell_type": "code",
   "execution_count": 18,
   "id": "52842ba9",
   "metadata": {},
   "outputs": [
    {
     "data": {
      "text/plain": [
       "2"
      ]
     },
     "execution_count": 18,
     "metadata": {},
     "output_type": "execute_result"
    }
   ],
   "source": [
    "# Longitud de la LISTA\n",
    "len(list_b) # La lista tiene una longitud de 2 listas dentro de la misma."
   ]
  },
  {
   "cell_type": "code",
   "execution_count": 19,
   "id": "b75bd20d",
   "metadata": {},
   "outputs": [
    {
     "data": {
      "text/plain": [
       "list"
      ]
     },
     "execution_count": 19,
     "metadata": {},
     "output_type": "execute_result"
    }
   ],
   "source": [
    "# Ver el tipo de dato\n",
    "type(list_b)"
   ]
  },
  {
   "cell_type": "code",
   "execution_count": 20,
   "id": "10bb77ac",
   "metadata": {},
   "outputs": [
    {
     "data": {
      "text/plain": [
       "array([[1, 2, 3],\n",
       "       [4, 5, 6]])"
      ]
     },
     "execution_count": 20,
     "metadata": {},
     "output_type": "execute_result"
    }
   ],
   "source": [
    "# Ahora creamos un ARRAY a partir de la LISTA\n",
    "array_a=np.array(list_b)\n",
    "# Mostrar contenido\n",
    "array_a"
   ]
  },
  {
   "cell_type": "code",
   "execution_count": 21,
   "id": "0fdf3e5c",
   "metadata": {},
   "outputs": [
    {
     "data": {
      "text/plain": [
       "numpy.ndarray"
      ]
     },
     "execution_count": 21,
     "metadata": {},
     "output_type": "execute_result"
    }
   ],
   "source": [
    "# Verificamos el tipo de dato\n",
    "type(array_a)"
   ]
  },
  {
   "cell_type": "code",
   "execution_count": 22,
   "id": "b259a2b8",
   "metadata": {},
   "outputs": [
    {
     "name": "stdout",
     "output_type": "stream",
     "text": [
      "[[1, 2, 3], [4, 5, 6]]\n"
     ]
    }
   ],
   "source": [
    "# Mostrar LISTA\n",
    "print(list_b)\n",
    "# La lista muestra todo en una sola línea"
   ]
  },
  {
   "cell_type": "code",
   "execution_count": 23,
   "id": "b4a66bd3",
   "metadata": {},
   "outputs": [
    {
     "name": "stdout",
     "output_type": "stream",
     "text": [
      "[[1 2 3]\n",
      " [4 5 6]]\n"
     ]
    }
   ],
   "source": [
    "# Mostrar ARRAY\n",
    "print(array_a)\n",
    "# El array muestra el contenido en 2 filas y 3 columnas"
   ]
  },
  {
   "cell_type": "code",
   "execution_count": 24,
   "id": "7fef3505",
   "metadata": {},
   "outputs": [],
   "source": [
    "# Creamos una LISTA y ARRAY a partir de las anteriores\n",
    "new_list= list_b[0] + list_b[1]\n",
    "new_array= array_a[0] + array_a[1]"
   ]
  },
  {
   "cell_type": "code",
   "execution_count": 25,
   "id": "5d388442",
   "metadata": {},
   "outputs": [
    {
     "name": "stdout",
     "output_type": "stream",
     "text": [
      "[1, 2, 3, 4, 5, 6]\n"
     ]
    }
   ],
   "source": [
    "# Imprimir LISTA\n",
    "print(new_list)"
   ]
  },
  {
   "cell_type": "code",
   "execution_count": 26,
   "id": "6d7b5e7e",
   "metadata": {},
   "outputs": [
    {
     "name": "stdout",
     "output_type": "stream",
     "text": [
      "[5 7 9]\n"
     ]
    }
   ],
   "source": [
    "# Imprimir ARRAY\n",
    "print(new_array)"
   ]
  },
  {
   "cell_type": "code",
   "execution_count": 27,
   "id": "a1806f72",
   "metadata": {},
   "outputs": [],
   "source": [
    "# Observamos que en la LISTA concatena los valores y\n",
    "# en el ARRAY suma los valores de [0][0] + [0][1] y así sucesivamente"
   ]
  },
  {
   "cell_type": "code",
   "execution_count": 28,
   "id": "307ea767",
   "metadata": {},
   "outputs": [
    {
     "data": {
      "text/plain": [
       "array([[1.        , 1.41421356, 1.73205081],\n",
       "       [2.        , 2.23606798, 2.44948974]])"
      ]
     },
     "execution_count": 28,
     "metadata": {},
     "output_type": "execute_result"
    }
   ],
   "source": [
    "# Sacar la RAÍZ CUADRADA\n",
    "np.sqrt(array_a)"
   ]
  },
  {
   "cell_type": "markdown",
   "id": "3adc03a4",
   "metadata": {},
   "source": [
    "### Indexing "
   ]
  },
  {
   "cell_type": "code",
   "execution_count": 29,
   "id": "970000c8",
   "metadata": {},
   "outputs": [],
   "source": [
    "# Son como coordenadas que nos ayudan a navegar por el ARRAY.\n",
    "# Son números enteros, comenzando desde 0 la primera posición"
   ]
  },
  {
   "cell_type": "code",
   "execution_count": 30,
   "id": "196bd314",
   "metadata": {},
   "outputs": [
    {
     "data": {
      "text/plain": [
       "array([[1, 2, 3],\n",
       "       [4, 5, 6]])"
      ]
     },
     "execution_count": 30,
     "metadata": {},
     "output_type": "execute_result"
    }
   ],
   "source": [
    "# Definimos un ARRAY bidimensional 2-D\n",
    "array_a = np.array([[1,2,3],[4,5,6]])\n",
    "# Mostramos el contenido\n",
    "array_a"
   ]
  },
  {
   "cell_type": "code",
   "execution_count": 31,
   "id": "838213c3",
   "metadata": {},
   "outputs": [
    {
     "data": {
      "text/plain": [
       "array([1, 2, 3])"
      ]
     },
     "execution_count": 31,
     "metadata": {},
     "output_type": "execute_result"
    }
   ],
   "source": [
    "# Especificar Valores\n",
    "array_a[0]\n",
    "# Nos muestra la primera fila del ARRAY"
   ]
  },
  {
   "cell_type": "code",
   "execution_count": 32,
   "id": "c2189e23",
   "metadata": {},
   "outputs": [
    {
     "data": {
      "text/plain": [
       "array([4, 5, 6])"
      ]
     },
     "execution_count": 32,
     "metadata": {},
     "output_type": "execute_result"
    }
   ],
   "source": [
    "array_a[1]\n",
    "# Nos muestra la segunda fila del ARRAY"
   ]
  },
  {
   "cell_type": "code",
   "execution_count": 33,
   "id": "7622ca46",
   "metadata": {},
   "outputs": [
    {
     "data": {
      "text/plain": [
       "1"
      ]
     },
     "execution_count": 33,
     "metadata": {},
     "output_type": "execute_result"
    }
   ],
   "source": [
    "# Para obtener un valor individual\n",
    "array_a[0][0]  # o array_a[0,0]\n",
    "# Nos muestra el primer valor de la primera fila"
   ]
  },
  {
   "cell_type": "code",
   "execution_count": 34,
   "id": "41f78054",
   "metadata": {},
   "outputs": [
    {
     "data": {
      "text/plain": [
       "3"
      ]
     },
     "execution_count": 34,
     "metadata": {},
     "output_type": "execute_result"
    }
   ],
   "source": [
    "array_a[0][2]\n",
    "# Nos muestra el tercer valor de la primera fila"
   ]
  },
  {
   "cell_type": "code",
   "execution_count": 35,
   "id": "d46cfa36",
   "metadata": {},
   "outputs": [
    {
     "data": {
      "text/plain": [
       "5"
      ]
     },
     "execution_count": 35,
     "metadata": {},
     "output_type": "execute_result"
    }
   ],
   "source": [
    "array_a[1][1]\n",
    "# Nos muestra el segundo valor de la segunda fila"
   ]
  },
  {
   "cell_type": "code",
   "execution_count": 36,
   "id": "baa3c6c5",
   "metadata": {},
   "outputs": [
    {
     "data": {
      "text/plain": [
       "array([1, 4])"
      ]
     },
     "execution_count": 36,
     "metadata": {},
     "output_type": "execute_result"
    }
   ],
   "source": [
    "# Obtener valores de una columna\n",
    "array_a[:,0]\n",
    "# Muestra todos los valores de la primera columna"
   ]
  },
  {
   "cell_type": "code",
   "execution_count": 37,
   "id": "5118fcd3",
   "metadata": {},
   "outputs": [
    {
     "data": {
      "text/plain": [
       "array([1, 2, 3])"
      ]
     },
     "execution_count": 37,
     "metadata": {},
     "output_type": "execute_result"
    }
   ],
   "source": [
    "# índices negativos\n",
    "array_b=np.array([1,2,3])\n",
    "# Mostrar el contenido\n",
    "array_b"
   ]
  },
  {
   "cell_type": "code",
   "execution_count": 38,
   "id": "81c0d92f",
   "metadata": {},
   "outputs": [
    {
     "data": {
      "text/plain": [
       "3"
      ]
     },
     "execution_count": 38,
     "metadata": {},
     "output_type": "execute_result"
    }
   ],
   "source": [
    "array_b[-1]\n",
    "# Muestra el primer valor de la fila partiendo de la derecha"
   ]
  },
  {
   "cell_type": "code",
   "execution_count": 39,
   "id": "0ca81d71",
   "metadata": {},
   "outputs": [
    {
     "data": {
      "text/plain": [
       "1"
      ]
     },
     "execution_count": 39,
     "metadata": {},
     "output_type": "execute_result"
    }
   ],
   "source": [
    "array_b[-3]\n",
    "# Muestra el tercer valor de la fila partiendo de la derecha"
   ]
  },
  {
   "cell_type": "markdown",
   "id": "82e0508d",
   "metadata": {},
   "source": [
    "### Asignar Valores "
   ]
  },
  {
   "cell_type": "code",
   "execution_count": 40,
   "id": "1872f516",
   "metadata": {},
   "outputs": [
    {
     "data": {
      "text/plain": [
       "array([[ 3,  4,  5,  6],\n",
       "       [ 7,  8,  9, 10]])"
      ]
     },
     "execution_count": 40,
     "metadata": {},
     "output_type": "execute_result"
    }
   ],
   "source": [
    "# Creamos un ARRAY\n",
    "array_a = np.array([[3,4,5,6],[7,8,9,10]])\n",
    "# Mostramos el contenido\n",
    "array_a"
   ]
  },
  {
   "cell_type": "code",
   "execution_count": 41,
   "id": "17626f17",
   "metadata": {},
   "outputs": [
    {
     "data": {
      "text/plain": [
       "array([[ 3,  4,  5,  2],\n",
       "       [ 7,  8,  9, 10]])"
      ]
     },
     "execution_count": 41,
     "metadata": {},
     "output_type": "execute_result"
    }
   ],
   "source": [
    "# Cambiar el valor del ARRAY a través de la posición\n",
    "array_a[0,3]=2\n",
    "# Cambios el valor del cuarto valor de la fila 1\n",
    "\n",
    "array_a # Cambiamos el 6 por el 2"
   ]
  },
  {
   "cell_type": "code",
   "execution_count": 42,
   "id": "bcb55583",
   "metadata": {},
   "outputs": [
    {
     "data": {
      "text/plain": [
       "array([[ 1,  2,  3,  4],\n",
       "       [ 7,  8,  9, 10]])"
      ]
     },
     "execution_count": 42,
     "metadata": {},
     "output_type": "execute_result"
    }
   ],
   "source": [
    "# Cambiar valores de una FILA\n",
    "array_a[0] = [1,2,3,4]\n",
    "array_a # Cambios la fila [3,4,5,2] por [1,2,3,4]"
   ]
  },
  {
   "cell_type": "code",
   "execution_count": 43,
   "id": "e0381fbe",
   "metadata": {},
   "outputs": [
    {
     "data": {
      "text/plain": [
       "array([[ 5,  2,  3,  4],\n",
       "       [ 6,  8,  9, 10]])"
      ]
     },
     "execution_count": 43,
     "metadata": {},
     "output_type": "execute_result"
    }
   ],
   "source": [
    "# Cambiar valores de la COLUMNA\n",
    "array_a[:,0] = [5,6]\n",
    "array_a # Cambios la columna [1,7] por [5,6]"
   ]
  },
  {
   "cell_type": "markdown",
   "id": "528c4d30",
   "metadata": {},
   "source": [
    "### Propiedades Elementales "
   ]
  },
  {
   "cell_type": "code",
   "execution_count": 44,
   "id": "b4c4ae55",
   "metadata": {},
   "outputs": [
    {
     "data": {
      "text/plain": [
       "array([1, 2, 3])"
      ]
     },
     "execution_count": 44,
     "metadata": {},
     "output_type": "execute_result"
    }
   ],
   "source": [
    "# Creamos el primer ARRAY\n",
    "array_a = np.array([1,2,3])\n",
    "array_a"
   ]
  },
  {
   "cell_type": "code",
   "execution_count": 45,
   "id": "d493429a",
   "metadata": {},
   "outputs": [
    {
     "data": {
      "text/plain": [
       "array([[4, 5, 6],\n",
       "       [7, 8, 9]])"
      ]
     },
     "execution_count": 45,
     "metadata": {},
     "output_type": "execute_result"
    }
   ],
   "source": [
    "# Creamos el segundo ARRAY\n",
    "array_b = np.array([[4,5,6],[7,8,9]])\n",
    "array_b"
   ]
  },
  {
   "cell_type": "code",
   "execution_count": 46,
   "id": "277ae5e0",
   "metadata": {},
   "outputs": [],
   "source": [
    "# 1. Al realizar una operación matemática lo estás haciendo a cada elemento del ARRAY\n",
    "# 2. Los ARRAYS deben tener la misma longitud"
   ]
  },
  {
   "cell_type": "code",
   "execution_count": 47,
   "id": "08db7fa7",
   "metadata": {},
   "outputs": [
    {
     "data": {
      "text/plain": [
       "array([3, 4, 5])"
      ]
     },
     "execution_count": 47,
     "metadata": {},
     "output_type": "execute_result"
    }
   ],
   "source": [
    "array_a + 2  # Se sumó 2 a cada elemento del ARRAY"
   ]
  },
  {
   "cell_type": "code",
   "execution_count": 48,
   "id": "e7db6005",
   "metadata": {},
   "outputs": [
    {
     "data": {
      "text/plain": [
       "array([5, 7, 9])"
      ]
     },
     "execution_count": 48,
     "metadata": {},
     "output_type": "execute_result"
    }
   ],
   "source": [
    "# Operación entre 2 ARRAY\n",
    "array_a + array_b[0] # Se sumó el array_a y la primera fila del array_b"
   ]
  },
  {
   "cell_type": "code",
   "execution_count": 49,
   "id": "c2961356",
   "metadata": {},
   "outputs": [
    {
     "data": {
      "text/plain": [
       "array([ 4, 10, 18])"
      ]
     },
     "execution_count": 49,
     "metadata": {},
     "output_type": "execute_result"
    }
   ],
   "source": [
    "array_a * array_b[0] # Se multiplicó el array_a y la primera fila del array_b"
   ]
  },
  {
   "cell_type": "code",
   "execution_count": 50,
   "id": "997628ef",
   "metadata": {},
   "outputs": [
    {
     "data": {
      "text/plain": [
       "array([[ 5,  7,  9],\n",
       "       [ 8, 10, 12]])"
      ]
     },
     "execution_count": 50,
     "metadata": {},
     "output_type": "execute_result"
    }
   ],
   "source": [
    "array_a + array_b # Suma el array_a a cada dimensión del array_b"
   ]
  },
  {
   "cell_type": "markdown",
   "id": "0a7611d3",
   "metadata": {},
   "source": [
    "### Tipos de datos admintidos en NumPy"
   ]
  },
  {
   "cell_type": "code",
   "execution_count": 51,
   "id": "33b64124",
   "metadata": {},
   "outputs": [
    {
     "data": {
      "text/plain": [
       "array([[1, 2, 3],\n",
       "       [4, 5, 6]])"
      ]
     },
     "execution_count": 51,
     "metadata": {},
     "output_type": "execute_result"
    }
   ],
   "source": [
    "# Definimos un ARRAY bidimesional\n",
    "array_a=np.array([[1,2,3],[4,5,6]])\n",
    "array_a"
   ]
  },
  {
   "cell_type": "code",
   "execution_count": 52,
   "id": "7bcad487",
   "metadata": {},
   "outputs": [
    {
     "data": {
      "text/plain": [
       "array([[1., 2., 3.],\n",
       "       [4., 5., 6.]], dtype=float32)"
      ]
     },
     "execution_count": 52,
     "metadata": {},
     "output_type": "execute_result"
    }
   ],
   "source": [
    "# Ahora definimos el tipo de dato al ARRAY - FLOAT\n",
    "array_a=np.array([[1,2,3],[4,5,6]], dtype='float32') #De tipo float32\n",
    "array_a"
   ]
  },
  {
   "cell_type": "code",
   "execution_count": 53,
   "id": "30ae16ee",
   "metadata": {},
   "outputs": [
    {
     "data": {
      "text/plain": [
       "array([[1., 2., 3.],\n",
       "       [4., 5., 6.]], dtype=float32)"
      ]
     },
     "execution_count": 53,
     "metadata": {},
     "output_type": "execute_result"
    }
   ],
   "source": [
    "# Otra manera de asignar el tipo de dato del ARRAY - FLOAT\n",
    "array_a=np.array([[1,2,3],[4,5,6]], dtype=np.float32) #De tipo float32\n",
    "array_a"
   ]
  },
  {
   "cell_type": "code",
   "execution_count": 54,
   "id": "4b5774be",
   "metadata": {},
   "outputs": [
    {
     "data": {
      "text/plain": [
       "array([[1.+0.j, 2.+0.j, 3.+0.j],\n",
       "       [4.+0.j, 5.+0.j, 6.+0.j]], dtype=complex64)"
      ]
     },
     "execution_count": 54,
     "metadata": {},
     "output_type": "execute_result"
    }
   ],
   "source": [
    "# Asignar tipo de datos COMPLEJOS\n",
    "array_a=np.array([[1,2,3],[4,5,6]], dtype=np.complex64) #De tipo complex64\n",
    "array_a"
   ]
  },
  {
   "cell_type": "code",
   "execution_count": 55,
   "id": "19f8d40e",
   "metadata": {},
   "outputs": [
    {
     "data": {
      "text/plain": [
       "array([[ True,  True,  True],\n",
       "       [ True, False,  True]])"
      ]
     },
     "execution_count": 55,
     "metadata": {},
     "output_type": "execute_result"
    }
   ],
   "source": [
    "# Asignar tipo de datos BOOLEAN\n",
    "array_a=np.array([[1,2,3],[4,0,6]], dtype=np.bool_) #De tipo bool\n",
    "# Será verdadero si el valor > 0 y falso si es 0\n",
    "array_a"
   ]
  },
  {
   "cell_type": "code",
   "execution_count": 56,
   "id": "d0982ff0",
   "metadata": {},
   "outputs": [
    {
     "data": {
      "text/plain": [
       "array([['1', '2', '3'],\n",
       "       ['4', '5', '6']], dtype='<U1')"
      ]
     },
     "execution_count": 56,
     "metadata": {},
     "output_type": "execute_result"
    }
   ],
   "source": [
    "# Asignar tipo de datos STRING\n",
    "array_a=np.array([[1,2,3],[4,5,6]], dtype=np.str_) #De tipo string\n",
    "array_a"
   ]
  },
  {
   "cell_type": "markdown",
   "id": "64ec4d8f",
   "metadata": {},
   "source": [
    "### Funciones NumPy "
   ]
  },
  {
   "cell_type": "code",
   "execution_count": 57,
   "id": "81dd4a36",
   "metadata": {},
   "outputs": [],
   "source": [
    "# BROADCASTING\n",
    "# Hace un redimensionamiento del ARRAY para adecuarlo a otro\n",
    "# Ejemplo: [1] y [1,2],[3,4], esto redimensionará a [1,1],[1,1] para que tenga las mismas dimensiones que [1,2],[3,4]"
   ]
  },
  {
   "cell_type": "code",
   "execution_count": 58,
   "id": "09dd0e5a",
   "metadata": {},
   "outputs": [
    {
     "data": {
      "text/plain": [
       "array([1, 2])"
      ]
     },
     "execution_count": 58,
     "metadata": {},
     "output_type": "execute_result"
    }
   ],
   "source": [
    "# Creamos un ARRAY\n",
    "array_c = np.array([1,2])\n",
    "array_c"
   ]
  },
  {
   "cell_type": "code",
   "execution_count": 59,
   "id": "1b26aacd",
   "metadata": {},
   "outputs": [
    {
     "data": {
      "text/plain": [
       "array([[1, 2],\n",
       "       [4, 5],\n",
       "       [7, 8]])"
      ]
     },
     "execution_count": 59,
     "metadata": {},
     "output_type": "execute_result"
    }
   ],
   "source": [
    "# Creamos un segundo ARRAY\n",
    "array_d = np.array([[1,2], [4,5], [7,8]])\n",
    "array_d"
   ]
  },
  {
   "cell_type": "code",
   "execution_count": 60,
   "id": "1e586753",
   "metadata": {},
   "outputs": [
    {
     "data": {
      "text/plain": [
       "array([[ 2,  4],\n",
       "       [ 5,  7],\n",
       "       [ 8, 10]])"
      ]
     },
     "execution_count": 60,
     "metadata": {},
     "output_type": "execute_result"
    }
   ],
   "source": [
    "# broadcasting:\n",
    "np.add(array_c,array_d)"
   ]
  },
  {
   "cell_type": "code",
   "execution_count": 61,
   "id": "87a908df",
   "metadata": {},
   "outputs": [],
   "source": [
    "# Tyoe Casting\n",
    "# Tomar un elemento del ARRAY y cambiarlo a un tipo de dato específico"
   ]
  },
  {
   "cell_type": "code",
   "execution_count": 62,
   "id": "f175f55e",
   "metadata": {},
   "outputs": [
    {
     "data": {
      "text/plain": [
       "array([[ 2.,  4.],\n",
       "       [ 5.,  7.],\n",
       "       [ 8., 10.]])"
      ]
     },
     "execution_count": 62,
     "metadata": {},
     "output_type": "execute_result"
    }
   ],
   "source": [
    "#Cambiamos el tipo de dato de salida y el de entradas\n",
    "np.add(array_c,array_d, dtype=np.float64)"
   ]
  },
  {
   "cell_type": "code",
   "execution_count": 63,
   "id": "97420929",
   "metadata": {},
   "outputs": [],
   "source": [
    "# AXIS\n",
    "# axis= 0 : columna del array\n",
    "# axis= 1 : fila del array"
   ]
  },
  {
   "cell_type": "code",
   "execution_count": 64,
   "id": "2088c58e",
   "metadata": {},
   "outputs": [
    {
     "data": {
      "text/plain": [
       "array([4., 5.])"
      ]
     },
     "execution_count": 64,
     "metadata": {},
     "output_type": "execute_result"
    }
   ],
   "source": [
    "# Obtener el promedio por COLUMNA\n",
    "np.mean(array_d, axis=0)"
   ]
  },
  {
   "cell_type": "code",
   "execution_count": 65,
   "id": "c33f1d2e",
   "metadata": {},
   "outputs": [
    {
     "data": {
      "text/plain": [
       "array([1.5, 4.5, 7.5])"
      ]
     },
     "execution_count": 65,
     "metadata": {},
     "output_type": "execute_result"
    }
   ],
   "source": [
    "# Obtener el promedio por FILA\n",
    "np.mean(array_d, axis=1)"
   ]
  },
  {
   "cell_type": "code",
   "execution_count": 66,
   "id": "17f1c017",
   "metadata": {},
   "outputs": [],
   "source": [
    "# OTRAS FUNCIONES:\n",
    "#np.mean(array_d)\n",
    "#np.sum(array_d)"
   ]
  },
  {
   "cell_type": "markdown",
   "id": "286b40b8",
   "metadata": {},
   "source": [
    "### Trabajando con Arrays"
   ]
  },
  {
   "cell_type": "code",
   "execution_count": 67,
   "id": "e7b7bc1a",
   "metadata": {},
   "outputs": [
    {
     "data": {
      "text/plain": [
       "array([[1, 2, 3],\n",
       "       [4, 5, 6]])"
      ]
     },
     "execution_count": 67,
     "metadata": {},
     "output_type": "execute_result"
    }
   ],
   "source": [
    "#Definimos un ARRAY con 2-D\n",
    "matrix_a= np.array([[1,2,3],[4,5,6]])\n",
    "matrix_a"
   ]
  },
  {
   "cell_type": "markdown",
   "id": "4a709a02",
   "metadata": {},
   "source": [
    "### Basic Slicing"
   ]
  },
  {
   "cell_type": "code",
   "execution_count": 68,
   "id": "a63b1d7f",
   "metadata": {},
   "outputs": [],
   "source": [
    "# Es el acto de crear un nuevo ARRAY tomando trozos de valores de un existente\n",
    "# Es igual a \"interval indexing\""
   ]
  },
  {
   "cell_type": "code",
   "execution_count": 70,
   "id": "a93b41d7",
   "metadata": {},
   "outputs": [
    {
     "data": {
      "text/plain": [
       "array([[1, 2, 3],\n",
       "       [4, 5, 6]])"
      ]
     },
     "execution_count": 70,
     "metadata": {},
     "output_type": "execute_result"
    }
   ],
   "source": [
    "#Obtener todas las filas y columnas\n",
    "matrix_a[:,:]"
   ]
  },
  {
   "cell_type": "code",
   "execution_count": 73,
   "id": "3c2b6552",
   "metadata": {},
   "outputs": [
    {
     "data": {
      "text/plain": [
       "array([[1, 2, 3]])"
      ]
     },
     "execution_count": 73,
     "metadata": {},
     "output_type": "execute_result"
    }
   ],
   "source": [
    "# Obtener primera fila\n",
    "matrix_a[:1]"
   ]
  },
  {
   "cell_type": "code",
   "execution_count": 76,
   "id": "172609bf",
   "metadata": {},
   "outputs": [
    {
     "data": {
      "text/plain": [
       "array([4, 5, 6])"
      ]
     },
     "execution_count": 76,
     "metadata": {},
     "output_type": "execute_result"
    }
   ],
   "source": [
    "#Obtener segunda fila 2-D\n",
    "matrix_a[1]"
   ]
  },
  {
   "cell_type": "code",
   "execution_count": 79,
   "id": "2a6d9cdd",
   "metadata": {},
   "outputs": [
    {
     "data": {
      "text/plain": [
       "array([[1, 2, 3]])"
      ]
     },
     "execution_count": 79,
     "metadata": {},
     "output_type": "execute_result"
    }
   ],
   "source": [
    "# Obtener primera fila\n",
    "matrix_a[:-1]"
   ]
  },
  {
   "cell_type": "code",
   "execution_count": 81,
   "id": "8c2f5c5c",
   "metadata": {},
   "outputs": [
    {
     "data": {
      "text/plain": [
       "array([[2, 3],\n",
       "       [5, 6]])"
      ]
     },
     "execution_count": 81,
     "metadata": {},
     "output_type": "execute_result"
    }
   ],
   "source": [
    "# Obtener a partir de la segunda columna[1]\n",
    "matrix_a[:,1:]"
   ]
  },
  {
   "cell_type": "code",
   "execution_count": 82,
   "id": "81e4af5e",
   "metadata": {},
   "outputs": [
    {
     "data": {
      "text/plain": [
       "array([[5, 6]])"
      ]
     },
     "execution_count": 82,
     "metadata": {},
     "output_type": "execute_result"
    }
   ],
   "source": [
    "#Obtener desde la segunda columna pero de la segunda fila\n",
    "matrix_a[1:,1:]"
   ]
  },
  {
   "cell_type": "markdown",
   "id": "9a0643e1",
   "metadata": {},
   "source": [
    "### Stepwise Slicing "
   ]
  },
  {
   "cell_type": "code",
   "execution_count": 83,
   "id": "d3e626c7",
   "metadata": {},
   "outputs": [],
   "source": [
    "# Corte paso a paso representa el corte donde no toma valores consecutivos sino valores separados."
   ]
  },
  {
   "cell_type": "code",
   "execution_count": 85,
   "id": "2b8f06d5",
   "metadata": {},
   "outputs": [
    {
     "data": {
      "text/plain": [
       "array([[ 1,  2,  3,  4,  5],\n",
       "       [ 6,  7,  8,  9, 10],\n",
       "       [11, 12, 13, 14, 15]])"
      ]
     },
     "execution_count": 85,
     "metadata": {},
     "output_type": "execute_result"
    }
   ],
   "source": [
    "# Definimos un ARRAY de 3-D\n",
    "matrix_b=np.array([[1,2,3,4,5],[6,7,8,9,10],[11,12,13,14,15]])\n",
    "matrix_b"
   ]
  },
  {
   "cell_type": "code",
   "execution_count": 88,
   "id": "3c3d99bf",
   "metadata": {},
   "outputs": [
    {
     "data": {
      "text/plain": [
       "array([[ 1,  2,  3,  4,  5],\n",
       "       [ 6,  7,  8,  9, 10],\n",
       "       [11, 12, 13, 14, 15]])"
      ]
     },
     "execution_count": 88,
     "metadata": {},
     "output_type": "execute_result"
    }
   ],
   "source": [
    "# Como anteriormente, obtener todo\n",
    "matrix_b[:,:]"
   ]
  },
  {
   "cell_type": "code",
   "execution_count": 90,
   "id": "f0f64207",
   "metadata": {},
   "outputs": [
    {
     "data": {
      "text/plain": [
       "array([[ 1,  2,  3,  4,  5],\n",
       "       [11, 12, 13, 14, 15]])"
      ]
     },
     "execution_count": 90,
     "metadata": {},
     "output_type": "execute_result"
    }
   ],
   "source": [
    "#Ejemplo: matrix_b[inicio:final:distancia,::]\n",
    "# distancia default: 1\n",
    "matrix_b[::,::]"
   ]
  },
  {
   "cell_type": "code",
   "execution_count": 92,
   "id": "ea06cf0a",
   "metadata": {},
   "outputs": [
    {
     "data": {
      "text/plain": [
       "array([[ 1,  2,  3,  4,  5],\n",
       "       [11, 12, 13, 14, 15]])"
      ]
     },
     "execution_count": 92,
     "metadata": {},
     "output_type": "execute_result"
    }
   ],
   "source": [
    "#Distancia 2, pasalo de la fila 0 a la fila 2\n",
    "matrix_b[::2,::]"
   ]
  },
  {
   "cell_type": "code",
   "execution_count": 94,
   "id": "6759d760",
   "metadata": {},
   "outputs": [
    {
     "data": {
      "text/plain": [
       "array([[ 1,  3,  5],\n",
       "       [ 6,  8, 10],\n",
       "       [11, 13, 15]])"
      ]
     },
     "execution_count": 94,
     "metadata": {},
     "output_type": "execute_result"
    }
   ],
   "source": [
    "#Muestra las columnas 0, 2 y 4, vemos quue salta una columna\n",
    "matrix_b[::,::2] #Salto de 2 en columnas"
   ]
  },
  {
   "cell_type": "code",
   "execution_count": 96,
   "id": "0f31d940",
   "metadata": {},
   "outputs": [
    {
     "data": {
      "text/plain": [
       "array([[ 1,  3,  5],\n",
       "       [11, 13, 15]])"
      ]
     },
     "execution_count": 96,
     "metadata": {},
     "output_type": "execute_result"
    }
   ],
   "source": [
    "#Muestras las filas 0 y 2, y las columnas 0,2 y 4 \n",
    "matrix_b[::2,::2] #Salto de 2 en filas y columnas"
   ]
  },
  {
   "cell_type": "code",
   "execution_count": 99,
   "id": "ca1fc91f",
   "metadata": {},
   "outputs": [
    {
     "data": {
      "text/plain": [
       "array([[11, 13, 15],\n",
       "       [ 6,  8, 10],\n",
       "       [ 1,  3,  5]])"
      ]
     },
     "execution_count": 99,
     "metadata": {},
     "output_type": "execute_result"
    }
   ],
   "source": [
    "matrix_b[::-1,::2] #salto de 2 columnas e invertir el orden de valores (-1)"
   ]
  },
  {
   "cell_type": "markdown",
   "id": "1fc348b6",
   "metadata": {},
   "source": [
    "### Conditional Slicing "
   ]
  },
  {
   "cell_type": "code",
   "execution_count": 102,
   "id": "ad1c013b",
   "metadata": {},
   "outputs": [
    {
     "data": {
      "text/plain": [
       "array([[ 1,  2,  3,  4,  5],\n",
       "       [ 6,  7,  8,  9, 10],\n",
       "       [11, 12, 13, 14, 15]])"
      ]
     },
     "execution_count": 102,
     "metadata": {},
     "output_type": "execute_result"
    }
   ],
   "source": [
    "#Utilizaremos la misma MATRIX\n",
    "matrix_b"
   ]
  },
  {
   "cell_type": "code",
   "execution_count": 104,
   "id": "772e2c21",
   "metadata": {},
   "outputs": [
    {
     "data": {
      "text/plain": [
       "array([ 1,  6, 11])"
      ]
     },
     "execution_count": 104,
     "metadata": {},
     "output_type": "execute_result"
    }
   ],
   "source": [
    "#Obtener columna 0\n",
    "matrix_b[:,0]"
   ]
  },
  {
   "cell_type": "code",
   "execution_count": 106,
   "id": "04b398a3",
   "metadata": {},
   "outputs": [
    {
     "data": {
      "text/plain": [
       "array([False,  True,  True])"
      ]
     },
     "execution_count": 106,
     "metadata": {},
     "output_type": "execute_result"
    }
   ],
   "source": [
    "# Obtener los valores de la columna 1 que sean mayores a 5\n",
    "matrix_b[:,1] > 5"
   ]
  },
  {
   "cell_type": "code",
   "execution_count": 108,
   "id": "c1419447",
   "metadata": {},
   "outputs": [
    {
     "data": {
      "text/plain": [
       "array([[False, False, False, False,  True],\n",
       "       [ True,  True,  True,  True,  True],\n",
       "       [ True,  True,  True,  True,  True]])"
      ]
     },
     "execution_count": 108,
     "metadata": {},
     "output_type": "execute_result"
    }
   ],
   "source": [
    "# Valores mayores de 4 de la MATRIX\n",
    "matrix_b[:,:] > 4"
   ]
  },
  {
   "cell_type": "code",
   "execution_count": 110,
   "id": "590fc62a",
   "metadata": {},
   "outputs": [
    {
     "data": {
      "text/plain": [
       "array([ 5,  6,  7,  8,  9, 10, 11, 12, 13, 14, 15])"
      ]
     },
     "execution_count": 110,
     "metadata": {},
     "output_type": "execute_result"
    }
   ],
   "source": [
    "# Obtener los valores de la matrix mayor a 4\n",
    "matrix_b[matrix_b[:,:] > 4]\n",
    "# Creará una matrix de 1-D"
   ]
  },
  {
   "cell_type": "code",
   "execution_count": 111,
   "id": "1c3e4620",
   "metadata": {},
   "outputs": [
    {
     "data": {
      "text/plain": [
       "array([4])"
      ]
     },
     "execution_count": 111,
     "metadata": {},
     "output_type": "execute_result"
    }
   ],
   "source": [
    "# Obtener los valores de la matrix iguales a 4\n",
    "matrix_b[matrix_b[:,:] == 4]\n",
    "# Creará una matrix de 1-D"
   ]
  },
  {
   "cell_type": "code",
   "execution_count": 114,
   "id": "53bcca0f",
   "metadata": {},
   "outputs": [
    {
     "data": {
      "text/plain": [
       "array([ 1,  2,  3,  4,  5,  6,  7,  8,  9, 11, 12, 13, 14, 15])"
      ]
     },
     "execution_count": 114,
     "metadata": {},
     "output_type": "execute_result"
    }
   ],
   "source": [
    "# Obtener los valores de la matrix diferentes de 10\n",
    "matrix_b[matrix_b[:,:] != 10]\n",
    "# Creará una matrix de 1-D"
   ]
  },
  {
   "cell_type": "code",
   "execution_count": 115,
   "id": "f107815d",
   "metadata": {},
   "outputs": [
    {
     "data": {
      "text/plain": [
       "array([ 2,  4,  6,  8, 10, 12, 14])"
      ]
     },
     "execution_count": 115,
     "metadata": {},
     "output_type": "execute_result"
    }
   ],
   "source": [
    "# Obtener los valores pares de la matrix\n",
    "matrix_b[matrix_b[:,:] % 2 == 0]\n",
    "# Creará una matrix de 1-D"
   ]
  },
  {
   "cell_type": "code",
   "execution_count": 117,
   "id": "ff10c567",
   "metadata": {},
   "outputs": [
    {
     "data": {
      "text/plain": [
       "array([11, 13, 15])"
      ]
     },
     "execution_count": 117,
     "metadata": {},
     "output_type": "execute_result"
    }
   ],
   "source": [
    "# Obtener los valores impares mayores de 10\n",
    "matrix_b[(matrix_b[:,:] % 2 != 0) & (matrix_b[:,:]>10)]\n",
    "# Creará una matrix de 1-D"
   ]
  },
  {
   "cell_type": "markdown",
   "id": "43e2d313",
   "metadata": {},
   "source": [
    "### Dimensiones y Función Squeeze"
   ]
  },
  {
   "cell_type": "code",
   "execution_count": 118,
   "id": "afd087dd",
   "metadata": {},
   "outputs": [
    {
     "data": {
      "text/plain": [
       "array([[ 1,  2,  3,  4,  5],\n",
       "       [ 6,  7,  8,  9, 10],\n",
       "       [11, 12, 13, 14, 15]])"
      ]
     },
     "execution_count": 118,
     "metadata": {},
     "output_type": "execute_result"
    }
   ],
   "source": [
    "# Utilizamos la matrix anteriormente definida\n",
    "matrix_b"
   ]
  },
  {
   "cell_type": "code",
   "execution_count": 119,
   "id": "a360c1b2",
   "metadata": {},
   "outputs": [],
   "source": [
    "# Función squeeze: Elimina las dimensiones inncesarias de una formación al consultar uno en específico de la matrix"
   ]
  },
  {
   "cell_type": "code",
   "execution_count": 121,
   "id": "462f0711",
   "metadata": {},
   "outputs": [
    {
     "data": {
      "text/plain": [
       "array([[1]])"
      ]
     },
     "execution_count": 121,
     "metadata": {},
     "output_type": "execute_result"
    }
   ],
   "source": [
    "#Obtenemos un array de 2-D\n",
    "matrix_b[0:1,0:1]"
   ]
  },
  {
   "cell_type": "code",
   "execution_count": 124,
   "id": "deea7a35",
   "metadata": {},
   "outputs": [
    {
     "name": "stdout",
     "output_type": "stream",
     "text": [
      "1\n"
     ]
    }
   ],
   "source": [
    "# Para hacer más legible y comprensible:\n",
    "print(matrix_b[0:1,0:1].squeeze()) #Nos arroja un simple array, que es un entero"
   ]
  },
  {
   "cell_type": "markdown",
   "id": "fce9b6f3",
   "metadata": {},
   "source": [
    "### Generar data en Numpy "
   ]
  },
  {
   "cell_type": "markdown",
   "id": "d583da69",
   "metadata": {},
   "source": [
    "### np.empty(), np.zeros(), np.ones(), np.full() "
   ]
  },
  {
   "cell_type": "code",
   "execution_count": 125,
   "id": "b56b0c9f",
   "metadata": {},
   "outputs": [],
   "source": [
    "# np.empty() : crea una matriz vacia de una forma y tipo de dato"
   ]
  },
  {
   "cell_type": "code",
   "execution_count": 127,
   "id": "1f9a53d6",
   "metadata": {},
   "outputs": [
    {
     "data": {
      "text/plain": [
       "array([[ 2.,  4.,  5.],\n",
       "       [ 7.,  8., 10.]])"
      ]
     },
     "execution_count": 127,
     "metadata": {},
     "output_type": "execute_result"
    }
   ],
   "source": [
    "# Crear array np.empty()\n",
    "array_empty = np.empty(shape=(2,3)) #Creamos un ARRAY, con 2 filas y 3 columnas\n",
    "#Por lo general da un ARRAY de 0, pero en ocasiones con números al azar\n",
    "array_empty"
   ]
  },
  {
   "cell_type": "code",
   "execution_count": 128,
   "id": "6ea2515f",
   "metadata": {},
   "outputs": [],
   "source": [
    "# np.zeros(): crea una matriz llena de 0 con una forma y tipo de dato"
   ]
  },
  {
   "cell_type": "code",
   "execution_count": 131,
   "id": "4aa07235",
   "metadata": {},
   "outputs": [
    {
     "data": {
      "text/plain": [
       "array([[0, 0],\n",
       "       [0, 0]], dtype=int8)"
      ]
     },
     "execution_count": 131,
     "metadata": {},
     "output_type": "execute_result"
    }
   ],
   "source": [
    "#Crear array np.zeros()\n",
    "array_zeros=np.zeros(shape=(2,2), dtype=np.int8) #Crea un ARRAY de valores 0 con 2 filas y 2 columnas, con tipo de dato int8\n",
    "array_zeros"
   ]
  },
  {
   "cell_type": "code",
   "execution_count": 132,
   "id": "05c851c0",
   "metadata": {},
   "outputs": [],
   "source": [
    "# np.ines(): crea una matriz llena de 1 con una forma y tipo de dato"
   ]
  },
  {
   "cell_type": "code",
   "execution_count": 135,
   "id": "d1f750a3",
   "metadata": {},
   "outputs": [
    {
     "data": {
      "text/plain": [
       "array([[1., 1., 1., 1.],\n",
       "       [1., 1., 1., 1.]])"
      ]
     },
     "execution_count": 135,
     "metadata": {},
     "output_type": "execute_result"
    }
   ],
   "source": [
    "#Crear array np.ones()\n",
    "array_ones=np.ones(shape=(2,4)) # Crea un ARRAY de valores 1 con 2 filas y 4 columnas\n",
    "array_ones"
   ]
  },
  {
   "cell_type": "code",
   "execution_count": 136,
   "id": "b071275e",
   "metadata": {},
   "outputs": [],
   "source": [
    "# np.full(): crea una matriz con una forma dada llena de un valor"
   ]
  },
  {
   "cell_type": "code",
   "execution_count": 137,
   "id": "282599e0",
   "metadata": {},
   "outputs": [],
   "source": [
    "#Crear array np.full()\n",
    "array_full=np.full(shape=(1,2), fill_value=2) # Crea un ARRAY con valores 2, de 1 fila y 2 columnas"
   ]
  },
  {
   "cell_type": "markdown",
   "id": "f8a95ae2",
   "metadata": {},
   "source": [
    "### Función \"_like\" "
   ]
  },
  {
   "cell_type": "code",
   "execution_count": null,
   "id": "7f07fe36",
   "metadata": {},
   "outputs": [],
   "source": [
    "# _like: copia la forma de una matriz"
   ]
  },
  {
   "cell_type": "code",
   "execution_count": 139,
   "id": "632c76a3",
   "metadata": {},
   "outputs": [
    {
     "data": {
      "text/plain": [
       "array([[ 1,  2,  3,  4,  5],\n",
       "       [ 6,  7,  8,  9, 10],\n",
       "       [11, 12, 13, 14, 15]])"
      ]
     },
     "execution_count": 139,
     "metadata": {},
     "output_type": "execute_result"
    }
   ],
   "source": [
    "# Definimos un ARRAY de 3-D\n",
    "matrix_c=np.array([[1,2,3,4,5],[6,7,8,9,10],[11,12,13,14,15]])\n",
    "matrix_c"
   ]
  },
  {
   "cell_type": "code",
   "execution_count": 140,
   "id": "7e6422d4",
   "metadata": {},
   "outputs": [
    {
     "data": {
      "text/plain": [
       "array([[      0,       0,       0,       0,       0],\n",
       "       [      0,       0,       0,       0,       0],\n",
       "       [   1844,       0,       0, 7077985,       0]])"
      ]
     },
     "execution_count": 140,
     "metadata": {},
     "output_type": "execute_result"
    }
   ],
   "source": [
    "# Crear un array np.empty_like tomando la forma de \"matrix_c\"\n",
    "array_empty_like= np.empty_like(matrix_c) # Crea un array con las mismas dimensiones y forma, con valores 0 o aleatorios\n",
    "array_empty_like"
   ]
  },
  {
   "cell_type": "code",
   "execution_count": 141,
   "id": "62f500b6",
   "metadata": {},
   "outputs": [
    {
     "data": {
      "text/plain": [
       "array([[0, 0, 0, 0, 0],\n",
       "       [0, 0, 0, 0, 0],\n",
       "       [0, 0, 0, 0, 0]])"
      ]
     },
     "execution_count": 141,
     "metadata": {},
     "output_type": "execute_result"
    }
   ],
   "source": [
    "# Crear un array np.zeros_like tomando la forma de \"matrix_c\"\n",
    "array_zeros_like= np.zeros_like(matrix_c) # Crea un array con las mismas dimensiones y forma, con valores 0\n",
    "array_zeros_like"
   ]
  },
  {
   "cell_type": "code",
   "execution_count": 143,
   "id": "a26aca02",
   "metadata": {},
   "outputs": [
    {
     "data": {
      "text/plain": [
       "array([[1, 1, 1, 1, 1],\n",
       "       [1, 1, 1, 1, 1],\n",
       "       [1, 1, 1, 1, 1]])"
      ]
     },
     "execution_count": 143,
     "metadata": {},
     "output_type": "execute_result"
    }
   ],
   "source": [
    "# Crear un array np.ones_like tomando la forma de \"matrix_c\"\n",
    "array_ones_like= np.ones_like(matrix_c) # Crea un array con las mismas dimensiones y forma, con valores 1\n",
    "array_ones_like"
   ]
  },
  {
   "cell_type": "markdown",
   "id": "4e15e97b",
   "metadata": {},
   "source": [
    "### np.arange() "
   ]
  },
  {
   "cell_type": "code",
   "execution_count": 145,
   "id": "fc3ea554",
   "metadata": {},
   "outputs": [],
   "source": [
    "# np.arange(): crea una secuencia de valores enteros en un rango dado"
   ]
  },
  {
   "cell_type": "code",
   "execution_count": 147,
   "id": "1feb5cca",
   "metadata": {},
   "outputs": [
    {
     "data": {
      "text/plain": [
       "array([ 0,  1,  2,  3,  4,  5,  6,  7,  8,  9, 10, 11, 12, 13, 14, 15, 16,\n",
       "       17, 18, 19, 20, 21, 22, 23, 24, 25, 26, 27, 28, 29])"
      ]
     },
     "execution_count": 147,
     "metadata": {},
     "output_type": "execute_result"
    }
   ],
   "source": [
    "#Definimos un ARRAY de un rango de 30\n",
    "array_rng=np.arange(30)\n",
    "array_rng"
   ]
  },
  {
   "cell_type": "code",
   "execution_count": 149,
   "id": "435744b0",
   "metadata": {},
   "outputs": [
    {
     "data": {
      "text/plain": [
       "array([ 1,  3,  5,  7,  9, 11, 13, 15, 17, 19], dtype=int8)"
      ]
     },
     "execution_count": 149,
     "metadata": {},
     "output_type": "execute_result"
    }
   ],
   "source": [
    "#Definimos un ARRAY de un rango que empieze en 1, termine en 20 y un salto de 2\n",
    "array_rng=np.arange(start=1, stop=20, step=2, dtype=np.int8)\n",
    "array_rng"
   ]
  },
  {
   "cell_type": "markdown",
   "id": "af69e409",
   "metadata": {},
   "source": [
    "### Valores Aleatorios - Random "
   ]
  },
  {
   "cell_type": "code",
   "execution_count": 151,
   "id": "98a2408f",
   "metadata": {},
   "outputs": [],
   "source": [
    "# Importamos Generator y PCG64\n",
    "from numpy.random import Generator as gen\n",
    "from numpy.random import PCG64 as pcg"
   ]
  },
  {
   "cell_type": "code",
   "execution_count": 153,
   "id": "2a472dc0",
   "metadata": {},
   "outputs": [
    {
     "data": {
      "text/plain": [
       "-1.740313477873"
      ]
     },
     "execution_count": 153,
     "metadata": {},
     "output_type": "execute_result"
    }
   ],
   "source": [
    "array_RG = gen(pcg())\n",
    "array_RG.normal() # Valor aleatoria a partir de distribución normal"
   ]
  },
  {
   "cell_type": "code",
   "execution_count": 155,
   "id": "68bed8db",
   "metadata": {},
   "outputs": [
    {
     "data": {
      "text/plain": [
       "array([[-0.11136972,  0.8953037 ],\n",
       "       [-0.3275794 , -0.53636655]])"
      ]
     },
     "execution_count": 155,
     "metadata": {},
     "output_type": "execute_result"
    }
   ],
   "source": [
    "array_RG = gen(pcg())\n",
    "array_RG.normal(size=(2,2)) # Valor aleatoria a partir de distribución normal, de 2 filass y 2 columnas"
   ]
  },
  {
   "cell_type": "markdown",
   "id": "9480a8d7",
   "metadata": {},
   "source": [
    "### Generando Enteros, Probabilidades y Opciones Aleatorias "
   ]
  },
  {
   "cell_type": "code",
   "execution_count": 156,
   "id": "a258388a",
   "metadata": {},
   "outputs": [],
   "source": [
    "# numpy.integers(): genera valores enteros"
   ]
  },
  {
   "cell_type": "code",
   "execution_count": 159,
   "id": "b92db3cb",
   "metadata": {},
   "outputs": [
    {
     "data": {
      "text/plain": [
       "array([[ 1, 11,  9],\n",
       "       [11, 12,  9]], dtype=int64)"
      ]
     },
     "execution_count": 159,
     "metadata": {},
     "output_type": "execute_result"
    }
   ],
   "source": [
    "array_RG = gen(pcg(seed=365))\n",
    "array_RG.integers(15,size=(2,3)) #Genera un ARRAY de enteros aleatorios hasta el 15 de 2 filas y 3 columnas"
   ]
  },
  {
   "cell_type": "code",
   "execution_count": 161,
   "id": "c6ccaa74",
   "metadata": {},
   "outputs": [
    {
     "data": {
      "text/plain": [
       "array([[23, 79, 66],\n",
       "       [80, 85, 68]], dtype=int64)"
      ]
     },
     "execution_count": 161,
     "metadata": {},
     "output_type": "execute_result"
    }
   ],
   "source": [
    "array_RG = gen(pcg(seed=365))\n",
    "array_RG.integers(low=15,high=100,size=(2,3)) #Genera un ARRAY de enteros aleatorios desde el 15 hasta el 100 de 2 filas y 3 columnas"
   ]
  },
  {
   "cell_type": "code",
   "execution_count": null,
   "id": "7c28956d",
   "metadata": {},
   "outputs": [],
   "source": [
    "# numpy.random(): genera valores probabilísticos"
   ]
  },
  {
   "cell_type": "code",
   "execution_count": 163,
   "id": "2dc18e51",
   "metadata": {},
   "outputs": [
    {
     "data": {
      "text/plain": [
       "array([[0.75915734, 0.7662218 , 0.6291028 ],\n",
       "       [0.20336599, 0.66501486, 0.06559111]])"
      ]
     },
     "execution_count": 163,
     "metadata": {},
     "output_type": "execute_result"
    }
   ],
   "source": [
    "array_RG = gen(pcg(seed=365))\n",
    "array_RG.random(size=(2,3)) #Valores sacados de una distribución uniforme continua (Probabilidad)"
   ]
  },
  {
   "cell_type": "code",
   "execution_count": 164,
   "id": "0ab3715f",
   "metadata": {},
   "outputs": [],
   "source": [
    "# numpy.choice(): simula la idea de hacer una elección arbitraria de una secuencia dada."
   ]
  },
  {
   "cell_type": "code",
   "execution_count": 168,
   "id": "08724158",
   "metadata": {},
   "outputs": [
    {
     "data": {
      "text/plain": [
       "array([[1, 4, 4],\n",
       "       [4, 5, 4]])"
      ]
     },
     "execution_count": 168,
     "metadata": {},
     "output_type": "execute_result"
    }
   ],
   "source": [
    "array_RG = gen(pcg(seed=365))\n",
    "array_RG.choice([1,2,3,4,5],size=(2,3)) #valores que se pueden asignar, 2 filas y 3 columnas"
   ]
  },
  {
   "cell_type": "markdown",
   "id": "bfdcf0ac",
   "metadata": {},
   "source": [
    "### Aplicación de Generación Aleatoria (Random) "
   ]
  },
  {
   "cell_type": "code",
   "execution_count": 169,
   "id": "2e65032e",
   "metadata": {},
   "outputs": [],
   "source": [
    "# 1: Cuando no se dispone de datos reales."
   ]
  },
  {
   "cell_type": "code",
   "execution_count": 171,
   "id": "0f1e0680",
   "metadata": {},
   "outputs": [],
   "source": [
    "# Generar 5 diferentes arays\n",
    "array_RG = gen(pcg(seed=365))\n",
    "\n",
    "array_column1=array_RG.normal(loc=2, scale=3, size=(1000))\n",
    "array_column2=array_RG.normal(loc=7, scale=2, size=(1000))\n",
    "array_column3=array_RG.logistic(loc=11, scale=3, size=(1000))\n",
    "array_column4=array_RG.exponential(scale=3, size=(1000))\n",
    "array_column5=array_RG.geometric(p=0.7, size=(1000))"
   ]
  },
  {
   "cell_type": "code",
   "execution_count": 175,
   "id": "17937a5c",
   "metadata": {},
   "outputs": [
    {
     "data": {
      "text/plain": [
       "array([[ 1.59077303,  6.42174295, 10.14698427,  5.18625553,  1.        ],\n",
       "       [ 2.28243293,  8.57902322, 15.93309953,  4.68270375,  1.        ],\n",
       "       [ 1.81098674,  5.17270135, -0.46878789,  1.83747938,  1.        ],\n",
       "       ...,\n",
       "       [ 0.1973629 ,  4.3465854 ,  2.66485989,  0.6070154 ,  1.        ],\n",
       "       [-2.21015722,  8.2176402 , 12.69328115,  0.37983455,  2.        ],\n",
       "       [ 2.91161235,  7.90337695, 11.79840961,  3.65112704,  1.        ]])"
      ]
     },
     "execution_count": 175,
     "metadata": {},
     "output_type": "execute_result"
    }
   ],
   "source": [
    "#Definimos un ARRAY con los arrays definidos antes\n",
    "# transpose(): transformar filas en columnas\n",
    "random_test_data=np.array([array_column1,array_column2,array_column3,array_column4,array_column5]).transpose()\n",
    "random_test_data"
   ]
  },
  {
   "cell_type": "code",
   "execution_count": 176,
   "id": "173aae1c",
   "metadata": {},
   "outputs": [
    {
     "data": {
      "text/plain": [
       "(1000, 5)"
      ]
     },
     "execution_count": 176,
     "metadata": {},
     "output_type": "execute_result"
    }
   ],
   "source": [
    "random_test_data.shape # 5 columnas y 1000 filas"
   ]
  },
  {
   "cell_type": "code",
   "execution_count": 177,
   "id": "fb8ac297",
   "metadata": {},
   "outputs": [],
   "source": [
    "# Exportar la data\n",
    "np.savetxt(\"Random_test.csv\",random_test_data, fmt=\"%s\", delimiter=',') #(nombre_archivo, data, formato, delimitador"
   ]
  },
  {
   "cell_type": "code",
   "execution_count": 179,
   "id": "0fa9428b",
   "metadata": {},
   "outputs": [
    {
     "data": {
      "text/plain": [
       "array([[ 1.59077303,  6.42174295, 10.14698427,  5.18625553,  1.        ],\n",
       "       [ 2.28243293,  8.57902322, 15.93309953,  4.68270375,  1.        ],\n",
       "       [ 1.81098674,  5.17270135, -0.46878789,  1.83747938,  1.        ],\n",
       "       ...,\n",
       "       [ 0.1973629 ,  4.3465854 ,  2.66485989,  0.6070154 ,  1.        ],\n",
       "       [-2.21015722,  8.2176402 , 12.69328115,  0.37983455,  2.        ],\n",
       "       [ 2.91161235,  7.90337695, 11.79840961,  3.65112704,  1.        ]])"
      ]
     },
     "execution_count": 179,
     "metadata": {},
     "output_type": "execute_result"
    }
   ],
   "source": [
    "# Importar la data\n",
    "np.genfromtxt(\"Random_test.csv\", delimiter=',') # (nombre_archivo, delimitador)"
   ]
  },
  {
   "cell_type": "markdown",
   "id": "11bb9368",
   "metadata": {},
   "source": [
    "### Importar y guardar datos con Numpy "
   ]
  },
  {
   "cell_type": "markdown",
   "id": "0b10ff12",
   "metadata": {},
   "source": [
    "### np.loadtxt() vs. np.genfromtxt()"
   ]
  },
  {
   "cell_type": "code",
   "execution_count": 181,
   "id": "e22558f8",
   "metadata": {},
   "outputs": [
    {
     "data": {
      "text/plain": [
       "array([[ 2000.,    40.,   365.,  3121.,  4241., 13621.],\n",
       "       [ 2000.,    40.,   365.,  3061.,  4171., 15041.],\n",
       "       [ 1000.,    40.,   365.,  2160.,  3280., 15340.],\n",
       "       ...,\n",
       "       [ 2000.,    40.,   365.,  4201.,  5001., 16600.],\n",
       "       [ 1000.,    40.,   365.,  2080.,  3320., 15600.],\n",
       "       [ 2000.,    40.,   365.,  4601.,  4601., 16600.]])"
      ]
     },
     "execution_count": 181,
     "metadata": {},
     "output_type": "execute_result"
    }
   ],
   "source": [
    "#Importar data (cargar)\n",
    "# np.loadtext() : más rápido, pero se rompe al formatear\n",
    "cargar_data_numeric1=np.loadtxt(\"D:/data numpy/Lending-Company-Numeric-Data.csv\", delimiter=',')\n",
    "cargar_data_numeric1"
   ]
  },
  {
   "cell_type": "code",
   "execution_count": 182,
   "id": "508fe160",
   "metadata": {},
   "outputs": [
    {
     "data": {
      "text/plain": [
       "array([[ 2000.,    40.,   365.,  3121.,  4241., 13621.],\n",
       "       [ 2000.,    40.,   365.,  3061.,  4171., 15041.],\n",
       "       [ 1000.,    40.,   365.,  2160.,  3280., 15340.],\n",
       "       ...,\n",
       "       [ 2000.,    40.,   365.,  4201.,  5001., 16600.],\n",
       "       [ 1000.,    40.,   365.,  2080.,  3320., 15600.],\n",
       "       [ 2000.,    40.,   365.,  4601.,  4601., 16600.]])"
      ]
     },
     "execution_count": 182,
     "metadata": {},
     "output_type": "execute_result"
    }
   ],
   "source": [
    "#Importar data (cargar)\n",
    "# np.genfromtxt(): más lentro, pero puede manejar valores faltantes\n",
    "cargar_data_numeric2=np.genfromtxt(\"D:/data numpy/Lending-Company-Numeric-Data.csv\", delimiter=',')\n",
    "cargar_data_numeric2"
   ]
  },
  {
   "cell_type": "code",
   "execution_count": 184,
   "id": "70b03eb3",
   "metadata": {},
   "outputs": [
    {
     "data": {
      "text/plain": [
       "True"
      ]
     },
     "execution_count": 184,
     "metadata": {},
     "output_type": "execute_result"
    }
   ],
   "source": [
    "# Comprobar que la data sea idéntica\n",
    "np.array_equal(cargar_data_numeric1,cargar_data_numeric2) # Es idéntico"
   ]
  },
  {
   "cell_type": "code",
   "execution_count": 188,
   "id": "196d8ab3",
   "metadata": {},
   "outputs": [],
   "source": [
    "# ARCHIVO CON DATOS FALTANTES (NAN)"
   ]
  },
  {
   "cell_type": "code",
   "execution_count": 189,
   "id": "57d05d56",
   "metadata": {},
   "outputs": [
    {
     "ename": "ValueError",
     "evalue": "could not convert string '' to float64 at row 11, column 4.",
     "output_type": "error",
     "traceback": [
      "\u001b[1;31m---------------------------------------------------------------------------\u001b[0m",
      "\u001b[1;31mValueError\u001b[0m                                Traceback (most recent call last)",
      "Cell \u001b[1;32mIn [189], line 3\u001b[0m\n\u001b[0;32m      1\u001b[0m \u001b[38;5;66;03m#Cargar datos np.genfromtxt()\u001b[39;00m\n\u001b[0;32m      2\u001b[0m \u001b[38;5;66;03m# loadtxt: no se puede cargar por datos faltantes\u001b[39;00m\n\u001b[1;32m----> 3\u001b[0m cargar_data_numeric_NAN\u001b[38;5;241m=\u001b[39m\u001b[43mnp\u001b[49m\u001b[38;5;241;43m.\u001b[39;49m\u001b[43mloadtxt\u001b[49m\u001b[43m(\u001b[49m\u001b[38;5;124;43m\"\u001b[39;49m\u001b[38;5;124;43mD:/data numpy/Lending-Company-Numeric-Data-NAN.csv\u001b[39;49m\u001b[38;5;124;43m\"\u001b[39;49m\u001b[43m,\u001b[49m\u001b[43m \u001b[49m\u001b[43mdelimiter\u001b[49m\u001b[38;5;241;43m=\u001b[39;49m\u001b[38;5;124;43m'\u001b[39;49m\u001b[38;5;124;43m;\u001b[39;49m\u001b[38;5;124;43m'\u001b[39;49m\u001b[43m)\u001b[49m\n\u001b[0;32m      4\u001b[0m cargar_data_numeric_NAN\n",
      "File \u001b[1;32m~\\AppData\\Local\\Programs\\Python\\Python310\\lib\\site-packages\\numpy\\lib\\npyio.py:1318\u001b[0m, in \u001b[0;36mloadtxt\u001b[1;34m(fname, dtype, comments, delimiter, converters, skiprows, usecols, unpack, ndmin, encoding, max_rows, quotechar, like)\u001b[0m\n\u001b[0;32m   1315\u001b[0m \u001b[38;5;28;01mif\u001b[39;00m \u001b[38;5;28misinstance\u001b[39m(delimiter, \u001b[38;5;28mbytes\u001b[39m):\n\u001b[0;32m   1316\u001b[0m     delimiter \u001b[38;5;241m=\u001b[39m delimiter\u001b[38;5;241m.\u001b[39mdecode(\u001b[38;5;124m'\u001b[39m\u001b[38;5;124mlatin1\u001b[39m\u001b[38;5;124m'\u001b[39m)\n\u001b[1;32m-> 1318\u001b[0m arr \u001b[38;5;241m=\u001b[39m \u001b[43m_read\u001b[49m\u001b[43m(\u001b[49m\u001b[43mfname\u001b[49m\u001b[43m,\u001b[49m\u001b[43m \u001b[49m\u001b[43mdtype\u001b[49m\u001b[38;5;241;43m=\u001b[39;49m\u001b[43mdtype\u001b[49m\u001b[43m,\u001b[49m\u001b[43m \u001b[49m\u001b[43mcomment\u001b[49m\u001b[38;5;241;43m=\u001b[39;49m\u001b[43mcomment\u001b[49m\u001b[43m,\u001b[49m\u001b[43m \u001b[49m\u001b[43mdelimiter\u001b[49m\u001b[38;5;241;43m=\u001b[39;49m\u001b[43mdelimiter\u001b[49m\u001b[43m,\u001b[49m\n\u001b[0;32m   1319\u001b[0m \u001b[43m            \u001b[49m\u001b[43mconverters\u001b[49m\u001b[38;5;241;43m=\u001b[39;49m\u001b[43mconverters\u001b[49m\u001b[43m,\u001b[49m\u001b[43m \u001b[49m\u001b[43mskiplines\u001b[49m\u001b[38;5;241;43m=\u001b[39;49m\u001b[43mskiprows\u001b[49m\u001b[43m,\u001b[49m\u001b[43m \u001b[49m\u001b[43musecols\u001b[49m\u001b[38;5;241;43m=\u001b[39;49m\u001b[43musecols\u001b[49m\u001b[43m,\u001b[49m\n\u001b[0;32m   1320\u001b[0m \u001b[43m            \u001b[49m\u001b[43munpack\u001b[49m\u001b[38;5;241;43m=\u001b[39;49m\u001b[43munpack\u001b[49m\u001b[43m,\u001b[49m\u001b[43m \u001b[49m\u001b[43mndmin\u001b[49m\u001b[38;5;241;43m=\u001b[39;49m\u001b[43mndmin\u001b[49m\u001b[43m,\u001b[49m\u001b[43m \u001b[49m\u001b[43mencoding\u001b[49m\u001b[38;5;241;43m=\u001b[39;49m\u001b[43mencoding\u001b[49m\u001b[43m,\u001b[49m\n\u001b[0;32m   1321\u001b[0m \u001b[43m            \u001b[49m\u001b[43mmax_rows\u001b[49m\u001b[38;5;241;43m=\u001b[39;49m\u001b[43mmax_rows\u001b[49m\u001b[43m,\u001b[49m\u001b[43m \u001b[49m\u001b[43mquote\u001b[49m\u001b[38;5;241;43m=\u001b[39;49m\u001b[43mquotechar\u001b[49m\u001b[43m)\u001b[49m\n\u001b[0;32m   1323\u001b[0m \u001b[38;5;28;01mreturn\u001b[39;00m arr\n",
      "File \u001b[1;32m~\\AppData\\Local\\Programs\\Python\\Python310\\lib\\site-packages\\numpy\\lib\\npyio.py:979\u001b[0m, in \u001b[0;36m_read\u001b[1;34m(fname, delimiter, comment, quote, imaginary_unit, usecols, skiplines, max_rows, converters, ndmin, unpack, dtype, encoding)\u001b[0m\n\u001b[0;32m    976\u001b[0m     data \u001b[38;5;241m=\u001b[39m _preprocess_comments(data, comments, encoding)\n\u001b[0;32m    978\u001b[0m \u001b[38;5;28;01mif\u001b[39;00m read_dtype_via_object_chunks \u001b[38;5;129;01mis\u001b[39;00m \u001b[38;5;28;01mNone\u001b[39;00m:\n\u001b[1;32m--> 979\u001b[0m     arr \u001b[38;5;241m=\u001b[39m \u001b[43m_load_from_filelike\u001b[49m\u001b[43m(\u001b[49m\n\u001b[0;32m    980\u001b[0m \u001b[43m        \u001b[49m\u001b[43mdata\u001b[49m\u001b[43m,\u001b[49m\u001b[43m \u001b[49m\u001b[43mdelimiter\u001b[49m\u001b[38;5;241;43m=\u001b[39;49m\u001b[43mdelimiter\u001b[49m\u001b[43m,\u001b[49m\u001b[43m \u001b[49m\u001b[43mcomment\u001b[49m\u001b[38;5;241;43m=\u001b[39;49m\u001b[43mcomment\u001b[49m\u001b[43m,\u001b[49m\u001b[43m \u001b[49m\u001b[43mquote\u001b[49m\u001b[38;5;241;43m=\u001b[39;49m\u001b[43mquote\u001b[49m\u001b[43m,\u001b[49m\n\u001b[0;32m    981\u001b[0m \u001b[43m        \u001b[49m\u001b[43mimaginary_unit\u001b[49m\u001b[38;5;241;43m=\u001b[39;49m\u001b[43mimaginary_unit\u001b[49m\u001b[43m,\u001b[49m\n\u001b[0;32m    982\u001b[0m \u001b[43m        \u001b[49m\u001b[43musecols\u001b[49m\u001b[38;5;241;43m=\u001b[39;49m\u001b[43musecols\u001b[49m\u001b[43m,\u001b[49m\u001b[43m \u001b[49m\u001b[43mskiplines\u001b[49m\u001b[38;5;241;43m=\u001b[39;49m\u001b[43mskiplines\u001b[49m\u001b[43m,\u001b[49m\u001b[43m \u001b[49m\u001b[43mmax_rows\u001b[49m\u001b[38;5;241;43m=\u001b[39;49m\u001b[43mmax_rows\u001b[49m\u001b[43m,\u001b[49m\n\u001b[0;32m    983\u001b[0m \u001b[43m        \u001b[49m\u001b[43mconverters\u001b[49m\u001b[38;5;241;43m=\u001b[39;49m\u001b[43mconverters\u001b[49m\u001b[43m,\u001b[49m\u001b[43m \u001b[49m\u001b[43mdtype\u001b[49m\u001b[38;5;241;43m=\u001b[39;49m\u001b[43mdtype\u001b[49m\u001b[43m,\u001b[49m\n\u001b[0;32m    984\u001b[0m \u001b[43m        \u001b[49m\u001b[43mencoding\u001b[49m\u001b[38;5;241;43m=\u001b[39;49m\u001b[43mencoding\u001b[49m\u001b[43m,\u001b[49m\u001b[43m \u001b[49m\u001b[43mfilelike\u001b[49m\u001b[38;5;241;43m=\u001b[39;49m\u001b[43mfilelike\u001b[49m\u001b[43m,\u001b[49m\n\u001b[0;32m    985\u001b[0m \u001b[43m        \u001b[49m\u001b[43mbyte_converters\u001b[49m\u001b[38;5;241;43m=\u001b[39;49m\u001b[43mbyte_converters\u001b[49m\u001b[43m)\u001b[49m\n\u001b[0;32m    987\u001b[0m \u001b[38;5;28;01melse\u001b[39;00m:\n\u001b[0;32m    988\u001b[0m     \u001b[38;5;66;03m# This branch reads the file into chunks of object arrays and then\u001b[39;00m\n\u001b[0;32m    989\u001b[0m     \u001b[38;5;66;03m# casts them to the desired actual dtype.  This ensures correct\u001b[39;00m\n\u001b[0;32m    990\u001b[0m     \u001b[38;5;66;03m# string-length and datetime-unit discovery (like `arr.astype()`).\u001b[39;00m\n\u001b[0;32m    991\u001b[0m     \u001b[38;5;66;03m# Due to chunking, certain error reports are less clear, currently.\u001b[39;00m\n\u001b[0;32m    992\u001b[0m     \u001b[38;5;28;01mif\u001b[39;00m filelike:\n",
      "\u001b[1;31mValueError\u001b[0m: could not convert string '' to float64 at row 11, column 4."
     ]
    }
   ],
   "source": [
    "#Cargar datos np.loadtxt()\n",
    "# loadtxt: no se puede cargar por datos faltantes\n",
    "cargar_data_numeric_NAN=np.loadtxt(\"D:/data numpy/Lending-Company-Numeric-Data-NAN.csv\", delimiter=';')\n",
    "cargar_data_numeric_NAN"
   ]
  },
  {
   "cell_type": "code",
   "execution_count": 186,
   "id": "dd1aaad5",
   "metadata": {},
   "outputs": [
    {
     "data": {
      "text/plain": [
       "array([[ 2000.,    40.,   365.,  3121.,  4241., 13621.],\n",
       "       [ 2000.,    40.,   365.,  3061.,  4171., 15041.],\n",
       "       [ 1000.,    40.,   365.,  2160.,  3280., 15340.],\n",
       "       ...,\n",
       "       [   nan,    40.,   365.,  4201.,  5001., 16600.],\n",
       "       [ 1000.,    40.,   365.,  2080.,  3320., 15600.],\n",
       "       [ 2000.,    40.,   365.,  4601.,  4601., 16600.]])"
      ]
     },
     "execution_count": 186,
     "metadata": {},
     "output_type": "execute_result"
    }
   ],
   "source": [
    "#Cargar datos np.genfromtxt() - RECOMENDADO\n",
    "# Con genfromtxt(), no tenemos problemas\n",
    "cargar_data_numeric_NAN=np.genfromtxt(\"D:/data numpy/Lending-Company-Numeric-Data-NAN.csv\", delimiter=';')\n",
    "cargar_data_numeric_NAN"
   ]
  },
  {
   "cell_type": "code",
   "execution_count": 190,
   "id": "4eaefec0",
   "metadata": {},
   "outputs": [
    {
     "name": "stderr",
     "output_type": "stream",
     "text": [
      "C:\\Users\\carlo\\AppData\\Local\\Temp\\ipykernel_11880\\3732940272.py:4: DeprecationWarning: `np.str` is a deprecated alias for the builtin `str`. To silence this warning, use `str` by itself. Doing this will not modify any behavior and is safe. If you specifically wanted the numpy scalar type, use `np.str_` here.\n",
      "Deprecated in NumPy 1.20; for more details and guidance: https://numpy.org/devdocs/release/1.20.0-notes.html#deprecations\n",
      "  cargar_data_numeric_NAN=np.loadtxt(\"D:/data numpy/Lending-Company-Numeric-Data-NAN.csv\", delimiter=';', dtype=np.str)\n"
     ]
    },
    {
     "data": {
      "text/plain": [
       "array([['2000', '40', '365', '3121', '4241', '13621'],\n",
       "       ['2000', '40', '365', '3061', '4171', '15041'],\n",
       "       ['1000', '40', '365', '2160', '3280', '15340'],\n",
       "       ...,\n",
       "       ['', '40', '365', '4201', '5001', '16600'],\n",
       "       ['1000', '40', '365', '2080', '3320', '15600'],\n",
       "       ['2000', '40', '365', '4601', '4601', '16600']], dtype='<U5')"
      ]
     },
     "execution_count": 190,
     "metadata": {},
     "output_type": "execute_result"
    }
   ],
   "source": [
    "#Cargar datos np.loadtxt()\n",
    "# loadtxt: para solucionar el problema de carga, definimos un tipo de dato\n",
    "# Reemplaza los valores faltantes por cadenas vacías\n",
    "cargar_data_numeric_NAN=np.loadtxt(\"D:/data numpy/Lending-Company-Numeric-Data-NAN.csv\", delimiter=';', dtype=np.str)\n",
    "cargar_data_numeric_NAN"
   ]
  },
  {
   "cell_type": "markdown",
   "id": "9607dc95",
   "metadata": {},
   "source": [
    "### Limpieza parcial durante la importación "
   ]
  },
  {
   "cell_type": "code",
   "execution_count": 192,
   "id": "2c040405",
   "metadata": {},
   "outputs": [
    {
     "data": {
      "text/plain": [
       "array([[ 2000.,    40.,   365.,  3121.,  4241., 13621.],\n",
       "       [ 2000.,    40.,   365.,  3061.,  4171., 15041.],\n",
       "       [ 1000.,    40.,   365.,  2160.,  3280., 15340.],\n",
       "       ...,\n",
       "       [   nan,    40.,   365.,  4201.,  5001., 16600.],\n",
       "       [ 1000.,    40.,   365.,  2080.,  3320., 15600.],\n",
       "       [ 2000.,    40.,   365.,  4601.,  4601., 16600.]])"
      ]
     },
     "execution_count": 192,
     "metadata": {},
     "output_type": "execute_result"
    }
   ],
   "source": [
    "cargar_data_numeric_NAN=np.genfromtxt(\"D:/data numpy/Lending-Company-Numeric-Data-NAN.csv\", delimiter=';')\n",
    "cargar_data_numeric_NAN"
   ]
  },
  {
   "cell_type": "code",
   "execution_count": 193,
   "id": "705ea4b3",
   "metadata": {},
   "outputs": [
    {
     "data": {
      "text/plain": [
       "array([[ 1000.,    40.,   365.,  2160.,  3280., 15340.],\n",
       "       [ 2000.,    40.,   365.,  3041.,  4241., 15321.],\n",
       "       [ 2000.,    50.,   365.,  3470.,  4820., 13720.],\n",
       "       ...,\n",
       "       [   nan,    40.,   365.,  4201.,  5001., 16600.],\n",
       "       [ 1000.,    40.,   365.,  2080.,  3320., 15600.],\n",
       "       [ 2000.,    40.,   365.,  4601.,  4601., 16600.]])"
      ]
     },
     "execution_count": 193,
     "metadata": {},
     "output_type": "execute_result"
    }
   ],
   "source": [
    "#Eliminar las primeras 2 filas, util cuando los archivos incluyen líneas de comentarios o notas\n",
    "cargar_data_numeric_NAN=np.genfromtxt(\"D:/data numpy/Lending-Company-Numeric-Data-NAN.csv\", \n",
    "                                      delimiter=';',\n",
    "                                      skip_header=2) #Eliminar primeras 2 filas\n",
    "cargar_data_numeric_NAN"
   ]
  },
  {
   "cell_type": "code",
   "execution_count": 194,
   "id": "dc935863",
   "metadata": {},
   "outputs": [
    {
     "data": {
      "text/plain": [
       "array([[ 2000.,    40.,   365.,  3121.,  4241., 13621.],\n",
       "       [ 2000.,    40.,   365.,  3061.,  4171., 15041.],\n",
       "       [ 1000.,    40.,   365.,  2160.,  3280., 15340.],\n",
       "       ...,\n",
       "       [ 2000.,    40.,   365.,  3401.,    nan, 16600.],\n",
       "       [ 2000.,    40.,   365.,    nan,  5440., 16600.],\n",
       "       [   nan,    40.,   365.,  4201.,  5001., 16600.]])"
      ]
     },
     "execution_count": 194,
     "metadata": {},
     "output_type": "execute_result"
    }
   ],
   "source": [
    "cargar_data_numeric_NAN=np.genfromtxt(\"D:/data numpy/Lending-Company-Numeric-Data-NAN.csv\", \n",
    "                                      delimiter=';',\n",
    "                                      skip_footer=2) #Eliminar últimas 2 filas\n",
    "cargar_data_numeric_NAN"
   ]
  },
  {
   "cell_type": "code",
   "execution_count": 195,
   "id": "814363ad",
   "metadata": {},
   "outputs": [
    {
     "data": {
      "text/plain": [
       "array([[ 2000.,    40., 13621.],\n",
       "       [ 2000.,    40., 15041.],\n",
       "       [ 1000.,    40., 15340.],\n",
       "       ...,\n",
       "       [   nan,    40., 16600.],\n",
       "       [ 1000.,    40., 15600.],\n",
       "       [ 2000.,    40., 16600.]])"
      ]
     },
     "execution_count": 195,
     "metadata": {},
     "output_type": "execute_result"
    }
   ],
   "source": [
    "# Establecer solo columnas queremos utilizar\n",
    "cargar_data_numeric_NAN=np.genfromtxt(\"D:/data numpy/Lending-Company-Numeric-Data-NAN.csv\", \n",
    "                                      delimiter=';',\n",
    "                                      usecols=(0,1,5)) #Utilizar solo las columnas 0,1 y 5\n",
    "cargar_data_numeric_NAN"
   ]
  },
  {
   "cell_type": "code",
   "execution_count": 196,
   "id": "7c87b3d5",
   "metadata": {},
   "outputs": [
    {
     "data": {
      "text/plain": [
       "array([[13621.,    40.,  2000.],\n",
       "       [15041.,    40.,  2000.],\n",
       "       [15340.,    40.,  1000.],\n",
       "       ...,\n",
       "       [16600.,    40.,    nan],\n",
       "       [15600.,    40.,  1000.],\n",
       "       [16600.,    40.,  2000.]])"
      ]
     },
     "execution_count": 196,
     "metadata": {},
     "output_type": "execute_result"
    }
   ],
   "source": [
    "# Establecer solo columnas queremos utilizar, estableciendo el orden\n",
    "cargar_data_numeric_NAN=np.genfromtxt(\"D:/data numpy/Lending-Company-Numeric-Data-NAN.csv\", \n",
    "                                      delimiter=';',\n",
    "                                      usecols=(5,1,0)) #Utilizar solo las columnas 5,1,0, se establecerá en el orden especificado\n",
    "cargar_data_numeric_NAN"
   ]
  },
  {
   "cell_type": "code",
   "execution_count": 197,
   "id": "7a07c670",
   "metadata": {},
   "outputs": [],
   "source": [
    "# Dividir la data en columnas y definir en variables para su tratamiento\n",
    "cargar_data_1,cargar_data_2,cargar_data_3=np.genfromtxt(\"D:/data numpy/Lending-Company-Numeric-Data-NAN.csv\", \n",
    "                                      delimiter=';',\n",
    "                                      usecols=(5,1,0),\n",
    "                                        unpack= True) #Para divir la data"
   ]
  },
  {
   "cell_type": "code",
   "execution_count": 199,
   "id": "461981e4",
   "metadata": {},
   "outputs": [
    {
     "name": "stdout",
     "output_type": "stream",
     "text": [
      "[13621. 15041. 15340. ... 16600. 15600. 16600.]\n",
      "[40. 40. 40. ... 40. 40. 40.]\n",
      "[2000. 2000. 1000. ...   nan 1000. 2000.]\n"
     ]
    }
   ],
   "source": [
    "#Consultamos las variables que asignamos los valores\n",
    "print(cargar_data_1)\n",
    "print(cargar_data_2)\n",
    "print(cargar_data_3)"
   ]
  },
  {
   "cell_type": "code",
   "execution_count": null,
   "id": "a2856855",
   "metadata": {},
   "outputs": [],
   "source": []
  }
 ],
 "metadata": {
  "kernelspec": {
   "display_name": "Python 3 (ipykernel)",
   "language": "python",
   "name": "python3"
  },
  "language_info": {
   "codemirror_mode": {
    "name": "ipython",
    "version": 3
   },
   "file_extension": ".py",
   "mimetype": "text/x-python",
   "name": "python",
   "nbconvert_exporter": "python",
   "pygments_lexer": "ipython3",
   "version": "3.10.7"
  }
 },
 "nbformat": 4,
 "nbformat_minor": 5
}
