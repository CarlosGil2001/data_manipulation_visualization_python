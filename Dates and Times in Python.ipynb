{
 "cells": [
  {
   "cell_type": "code",
   "execution_count": 11,
   "id": "5baedaa9",
   "metadata": {},
   "outputs": [],
   "source": [
    "# El tiempo es uno de los factores más importantes para cualquier actividad empresarial.\n",
    "# Ayuda a realizar un seguimiento de los datos históricos.\n",
    "\n",
    "# DATE: 13/10/202\n",
    "# TIME: 10:30 - 10h 30min 00sec\n",
    "# TIMESTAMP: DATE + TIME\n",
    "\n",
    "#Para adecuar el tiempo a diferentes zonas horarias en el mundo, se utiliza UTC (Standard Time Baseline Worldwide)\n",
    "# TIME ZONE: Especifica la zona horaria de una región geográfica fija."
   ]
  },
  {
   "cell_type": "markdown",
   "id": "c10e3344",
   "metadata": {},
   "source": [
    "### DATES"
   ]
  },
  {
   "cell_type": "code",
   "execution_count": 12,
   "id": "9518cb95",
   "metadata": {},
   "outputs": [],
   "source": [
    "#Importamos pandas\n",
    "import pandas as pd"
   ]
  },
  {
   "cell_type": "code",
   "execution_count": 168,
   "id": "3d56a6db",
   "metadata": {},
   "outputs": [
    {
     "data": {
      "text/html": [
       "<div>\n",
       "<style scoped>\n",
       "    .dataframe tbody tr th:only-of-type {\n",
       "        vertical-align: middle;\n",
       "    }\n",
       "\n",
       "    .dataframe tbody tr th {\n",
       "        vertical-align: top;\n",
       "    }\n",
       "\n",
       "    .dataframe thead th {\n",
       "        text-align: right;\n",
       "    }\n",
       "</style>\n",
       "<table border=\"1\" class=\"dataframe\">\n",
       "  <thead>\n",
       "    <tr style=\"text-align: right;\">\n",
       "      <th></th>\n",
       "      <th>StringID</th>\n",
       "      <th>Product</th>\n",
       "      <th>CustomerGender</th>\n",
       "      <th>Location</th>\n",
       "      <th>Region</th>\n",
       "      <th>TotalPrice</th>\n",
       "      <th>StartDate</th>\n",
       "      <th>Deposit</th>\n",
       "      <th>DailyRate</th>\n",
       "      <th>TotalDaysYr</th>\n",
       "      <th>AmtPaid36</th>\n",
       "      <th>AmtPaid60</th>\n",
       "      <th>AmtPaid360</th>\n",
       "      <th>LoanStatus</th>\n",
       "    </tr>\n",
       "    <tr>\n",
       "      <th>LoanID</th>\n",
       "      <th></th>\n",
       "      <th></th>\n",
       "      <th></th>\n",
       "      <th></th>\n",
       "      <th></th>\n",
       "      <th></th>\n",
       "      <th></th>\n",
       "      <th></th>\n",
       "      <th></th>\n",
       "      <th></th>\n",
       "      <th></th>\n",
       "      <th></th>\n",
       "      <th></th>\n",
       "      <th></th>\n",
       "    </tr>\n",
       "  </thead>\n",
       "  <tbody>\n",
       "    <tr>\n",
       "      <th>1</th>\n",
       "      <td>LoanID_1</td>\n",
       "      <td>Product B</td>\n",
       "      <td>Female</td>\n",
       "      <td>Location 3</td>\n",
       "      <td>Region 2</td>\n",
       "      <td>17600.0</td>\n",
       "      <td>04/07/2018</td>\n",
       "      <td>2200</td>\n",
       "      <td>45</td>\n",
       "      <td>365</td>\n",
       "      <td>3221</td>\n",
       "      <td>4166</td>\n",
       "      <td>14621</td>\n",
       "      <td>Active</td>\n",
       "    </tr>\n",
       "    <tr>\n",
       "      <th>2</th>\n",
       "      <td>LoanID_2</td>\n",
       "      <td>Product D</td>\n",
       "      <td>Female</td>\n",
       "      <td>Location 6</td>\n",
       "      <td>Region 6</td>\n",
       "      <td>NaN</td>\n",
       "      <td>02/01/2019</td>\n",
       "      <td>2200</td>\n",
       "      <td>45</td>\n",
       "      <td>365</td>\n",
       "      <td>3161</td>\n",
       "      <td>4096</td>\n",
       "      <td>16041</td>\n",
       "      <td>Active</td>\n",
       "    </tr>\n",
       "    <tr>\n",
       "      <th>3</th>\n",
       "      <td>LoanID_3</td>\n",
       "      <td>Product B</td>\n",
       "      <td>Male</td>\n",
       "      <td>Location 8</td>\n",
       "      <td>Region 3</td>\n",
       "      <td>16600.0</td>\n",
       "      <td>08/12/2016</td>\n",
       "      <td>1000</td>\n",
       "      <td>45</td>\n",
       "      <td>365</td>\n",
       "      <td>2260</td>\n",
       "      <td>3205</td>\n",
       "      <td>16340</td>\n",
       "      <td>NaN</td>\n",
       "    </tr>\n",
       "    <tr>\n",
       "      <th>4</th>\n",
       "      <td>LoanID_4</td>\n",
       "      <td>Product A</td>\n",
       "      <td>Male</td>\n",
       "      <td>Location 26</td>\n",
       "      <td>Region 2</td>\n",
       "      <td>17600.0</td>\n",
       "      <td>NaN</td>\n",
       "      <td>2200</td>\n",
       "      <td>45</td>\n",
       "      <td>365</td>\n",
       "      <td>3141</td>\n",
       "      <td>4166</td>\n",
       "      <td>16321</td>\n",
       "      <td>Active</td>\n",
       "    </tr>\n",
       "    <tr>\n",
       "      <th>5</th>\n",
       "      <td>LoanID_5</td>\n",
       "      <td>Product B</td>\n",
       "      <td>Female</td>\n",
       "      <td>Location 34</td>\n",
       "      <td>Region 3</td>\n",
       "      <td>21250.0</td>\n",
       "      <td>28/10/2017</td>\n",
       "      <td>2200</td>\n",
       "      <td>55</td>\n",
       "      <td>365</td>\n",
       "      <td>3570</td>\n",
       "      <td>4745</td>\n",
       "      <td>14720</td>\n",
       "      <td>Active</td>\n",
       "    </tr>\n",
       "  </tbody>\n",
       "</table>\n",
       "</div>"
      ],
      "text/plain": [
       "        StringID    Product CustomerGender     Location    Region  TotalPrice  \\\n",
       "LoanID                                                                          \n",
       "1       LoanID_1  Product B         Female   Location 3  Region 2     17600.0   \n",
       "2       LoanID_2  Product D         Female   Location 6  Region 6         NaN   \n",
       "3       LoanID_3  Product B           Male   Location 8  Region 3     16600.0   \n",
       "4       LoanID_4  Product A           Male  Location 26  Region 2     17600.0   \n",
       "5       LoanID_5  Product B         Female  Location 34  Region 3     21250.0   \n",
       "\n",
       "         StartDate  Deposit  DailyRate  TotalDaysYr  AmtPaid36  AmtPaid60  \\\n",
       "LoanID                                                                      \n",
       "1       04/07/2018     2200         45          365       3221       4166   \n",
       "2       02/01/2019     2200         45          365       3161       4096   \n",
       "3       08/12/2016     1000         45          365       2260       3205   \n",
       "4              NaN     2200         45          365       3141       4166   \n",
       "5       28/10/2017     2200         55          365       3570       4745   \n",
       "\n",
       "        AmtPaid360 LoanStatus  \n",
       "LoanID                         \n",
       "1            14621     Active  \n",
       "2            16041     Active  \n",
       "3            16340        NaN  \n",
       "4            16321     Active  \n",
       "5            14720     Active  "
      ]
     },
     "execution_count": 168,
     "metadata": {},
     "output_type": "execute_result"
    }
   ],
   "source": [
    "#Importamos (leer) la data \n",
    "data=pd.read_csv('D:/work date and time/Lending-company.csv', index_col='LoanID') #Asignamos 'LoanID' como columna de índice\n",
    "#Para evitar modificacions a la dataset original\n",
    "datacopy=data.copy() #Hacemos una copia de la data\n",
    "datacopy.head()"
   ]
  },
  {
   "cell_type": "code",
   "execution_count": 15,
   "id": "106a0f19",
   "metadata": {},
   "outputs": [],
   "source": [
    "# Se puede observar la columna \"StartDate\" que maneja fechas (day/month/year)"
   ]
  },
  {
   "cell_type": "code",
   "execution_count": 18,
   "id": "5676b128",
   "metadata": {},
   "outputs": [
    {
     "data": {
      "text/plain": [
       "LoanID\n",
       "1    04/07/2018\n",
       "2    02/01/2019\n",
       "3    08/12/2016\n",
       "4           NaN\n",
       "5    28/10/2017\n",
       "Name: StartDate, dtype: object"
      ]
     },
     "execution_count": 18,
     "metadata": {},
     "output_type": "execute_result"
    }
   ],
   "source": [
    "#Mostramos los registros de la columna \"StartDate\"\n",
    "datacopy['StartDate'].head() \n",
    "#Se puede observar que es de tipo \"object\""
   ]
  },
  {
   "cell_type": "code",
   "execution_count": 19,
   "id": "bbc89c98",
   "metadata": {},
   "outputs": [],
   "source": [
    "#El tipo de datos \"Object\" almacena cadenas, entonces tener fechas como cadena no es lo correcto."
   ]
  },
  {
   "cell_type": "markdown",
   "id": "37351d11",
   "metadata": {},
   "source": [
    "### Module date - Working with Dates"
   ]
  },
  {
   "cell_type": "code",
   "execution_count": 20,
   "id": "32a51f92",
   "metadata": {},
   "outputs": [],
   "source": [
    "#Para trabajar con el módulo date, debemos importarlo\n",
    "#Proporciona 6 clases (date,time,datetime,timedelta,tzinfo,timezone) para trabajar con fechas y horas\n",
    "from datetime import date"
   ]
  },
  {
   "cell_type": "code",
   "execution_count": 38,
   "id": "4f5e4737",
   "metadata": {},
   "outputs": [],
   "source": [
    "#Nos centraremos en la clase \"date\" (year/month/day)\n",
    "#Creamos una varibale my_date\n",
    "my_date=date(2021,2,20) #Creamos el constructor con los valores asignados"
   ]
  },
  {
   "cell_type": "code",
   "execution_count": 42,
   "id": "cb8da679",
   "metadata": {},
   "outputs": [
    {
     "data": {
      "text/plain": [
       "datetime.date"
      ]
     },
     "execution_count": 42,
     "metadata": {},
     "output_type": "execute_result"
    }
   ],
   "source": [
    "#Verificamos el tipo de datos\n",
    "type(my_date)\n",
    "#Observamos que es de tipo \"datetime\""
   ]
  },
  {
   "cell_type": "code",
   "execution_count": 44,
   "id": "13e3fff2",
   "metadata": {},
   "outputs": [
    {
     "data": {
      "text/plain": [
       "2021"
      ]
     },
     "execution_count": 44,
     "metadata": {},
     "output_type": "execute_result"
    }
   ],
   "source": [
    "#Obtener el año de una FECHA\n",
    "my_date.year"
   ]
  },
  {
   "cell_type": "code",
   "execution_count": 46,
   "id": "81e05546",
   "metadata": {},
   "outputs": [
    {
     "data": {
      "text/plain": [
       "2"
      ]
     },
     "execution_count": 46,
     "metadata": {},
     "output_type": "execute_result"
    }
   ],
   "source": [
    "#Obtener el mes de una FECHA (1 - 12)\n",
    "my_date.month"
   ]
  },
  {
   "cell_type": "code",
   "execution_count": 48,
   "id": "1fc6b93f",
   "metadata": {},
   "outputs": [
    {
     "data": {
      "text/plain": [
       "20"
      ]
     },
     "execution_count": 48,
     "metadata": {},
     "output_type": "execute_result"
    }
   ],
   "source": [
    "#Obtener el día del mes de una FECHA\n",
    "my_date.day"
   ]
  },
  {
   "cell_type": "code",
   "execution_count": 51,
   "id": "de3e8533",
   "metadata": {},
   "outputs": [
    {
     "data": {
      "text/plain": [
       "5"
      ]
     },
     "execution_count": 51,
     "metadata": {},
     "output_type": "execute_result"
    }
   ],
   "source": [
    "#Obtener el día de la semana de una FECHA\n",
    "my_date.weekday() \n",
    "#Lunes=0,...,Sábado=5"
   ]
  },
  {
   "cell_type": "code",
   "execution_count": 53,
   "id": "5d4bb0b7",
   "metadata": {},
   "outputs": [
    {
     "data": {
      "text/plain": [
       "datetime.timedelta(days=-58)"
      ]
     },
     "execution_count": 53,
     "metadata": {},
     "output_type": "execute_result"
    }
   ],
   "source": [
    "#Diferencia entre 2 fechas\n",
    "date(2022,5,5) - date(2022,7,2)\n",
    "#Nos arrojará la diferencia en DÍAS"
   ]
  },
  {
   "cell_type": "code",
   "execution_count": 54,
   "id": "5743d703",
   "metadata": {},
   "outputs": [],
   "source": [
    "# \"timedelta\": Representa una duración, la diferencia entre 2 fechas u horas"
   ]
  },
  {
   "cell_type": "code",
   "execution_count": 60,
   "id": "c92c5090",
   "metadata": {},
   "outputs": [
    {
     "data": {
      "text/plain": [
       "15"
      ]
     },
     "execution_count": 60,
     "metadata": {},
     "output_type": "execute_result"
    }
   ],
   "source": [
    "# Guardamos el resultado de la diferencia de 2 fechas\n",
    "delta=date(2022,10,10) - date(2022,9,25)\n",
    "#Obtenemos los días\n",
    "delta.days"
   ]
  },
  {
   "cell_type": "code",
   "execution_count": 62,
   "id": "d9090cbe",
   "metadata": {},
   "outputs": [
    {
     "data": {
      "text/plain": [
       "datetime.timedelta"
      ]
     },
     "execution_count": 62,
     "metadata": {},
     "output_type": "execute_result"
    }
   ],
   "source": [
    "#Verificamos que el tipo de dato es \"deltatime\"\n",
    "type(delta)"
   ]
  },
  {
   "cell_type": "code",
   "execution_count": 66,
   "id": "4fccf0dd",
   "metadata": {},
   "outputs": [
    {
     "name": "stdout",
     "output_type": "stream",
     "text": [
      "2022-08-02\n"
     ]
    }
   ],
   "source": [
    "#Realizamos una operación, de sumar los días de delta a una fecha\n",
    "print(date(2022,7,18) + delta) #se sumó los 15 días a la fecha asignada"
   ]
  },
  {
   "cell_type": "markdown",
   "id": "6ab8ca28",
   "metadata": {},
   "source": [
    "### Module time - Working with Dates"
   ]
  },
  {
   "cell_type": "code",
   "execution_count": 67,
   "id": "ba85e56d",
   "metadata": {},
   "outputs": [],
   "source": [
    "#Para trabajar con el módulo time, debemos importarlo\n",
    "#Proporciona 6 clases (date,time,datetime,timedelta,tzinfo,timezone) para trabajar con fechas y horas\n",
    "from datetime import time"
   ]
  },
  {
   "cell_type": "code",
   "execution_count": 69,
   "id": "0489ee22",
   "metadata": {},
   "outputs": [
    {
     "data": {
      "text/plain": [
       "datetime.time(10, 30, 20)"
      ]
     },
     "execution_count": 69,
     "metadata": {},
     "output_type": "execute_result"
    }
   ],
   "source": [
    "#Nos centramos en el módulo \"time\" (hour, min, second)\n",
    "#Creamos una variable local_time\n",
    "local_time=time(hour=10, minute=30, second=20) #Constructor con los valores de time\n",
    "#O\n",
    "#local_time=time(10,30,20)\n",
    "local_time"
   ]
  },
  {
   "cell_type": "code",
   "execution_count": 71,
   "id": "d4b6f7ff",
   "metadata": {},
   "outputs": [
    {
     "data": {
      "text/plain": [
       "datetime.time"
      ]
     },
     "execution_count": 71,
     "metadata": {},
     "output_type": "execute_result"
    }
   ],
   "source": [
    "#Verificamos el tipo de datos\n",
    "type(local_time)\n",
    "#tipo time"
   ]
  },
  {
   "cell_type": "code",
   "execution_count": 73,
   "id": "fa70914d",
   "metadata": {},
   "outputs": [
    {
     "name": "stdout",
     "output_type": "stream",
     "text": [
      "10:30:20\n"
     ]
    }
   ],
   "source": [
    "#Mostramos el valor de local_time\n",
    "print(local_time)"
   ]
  },
  {
   "cell_type": "code",
   "execution_count": 75,
   "id": "bdf489bf",
   "metadata": {},
   "outputs": [
    {
     "data": {
      "text/plain": [
       "10"
      ]
     },
     "execution_count": 75,
     "metadata": {},
     "output_type": "execute_result"
    }
   ],
   "source": [
    "#Obtener la hora\n",
    "local_time.hour"
   ]
  },
  {
   "cell_type": "code",
   "execution_count": 77,
   "id": "303c64b2",
   "metadata": {},
   "outputs": [
    {
     "data": {
      "text/plain": [
       "10"
      ]
     },
     "execution_count": 77,
     "metadata": {},
     "output_type": "execute_result"
    }
   ],
   "source": [
    "#Obtener los minutos\n",
    "local_time.hour"
   ]
  },
  {
   "cell_type": "code",
   "execution_count": 79,
   "id": "08d5c683",
   "metadata": {},
   "outputs": [
    {
     "data": {
      "text/plain": [
       "20"
      ]
     },
     "execution_count": 79,
     "metadata": {},
     "output_type": "execute_result"
    }
   ],
   "source": [
    "#Obtener los segundos\n",
    "local_time.second"
   ]
  },
  {
   "cell_type": "code",
   "execution_count": 82,
   "id": "2b2a775a",
   "metadata": {},
   "outputs": [
    {
     "data": {
      "text/plain": [
       "0"
      ]
     },
     "execution_count": 82,
     "metadata": {},
     "output_type": "execute_result"
    }
   ],
   "source": [
    "#En el caso se haya asignado, obtener microsegundos\n",
    "local_time.microsecond\n",
    "# 0: valor por default, cuando no se asigna"
   ]
  },
  {
   "cell_type": "code",
   "execution_count": 83,
   "id": "3e019aec",
   "metadata": {},
   "outputs": [],
   "source": [
    "#NOTA: Al tarabajar con \"time\" se debe tener en cuenta lo siguiente:\n",
    "# hour<24, min<60 and second<60"
   ]
  },
  {
   "cell_type": "markdown",
   "id": "f61c7268",
   "metadata": {},
   "source": [
    "### Module datetime - Working with Dates"
   ]
  },
  {
   "cell_type": "code",
   "execution_count": 84,
   "id": "dde29952",
   "metadata": {},
   "outputs": [],
   "source": [
    "#Para trabajar con el módulo datetime (fecha-hora), debemos importarlo\n",
    "#Proporciona 6 clases (date,time,datetime,timedelta,tzinfo,timezone) para trabajar con fechas y horas\n",
    "from datetime import datetime"
   ]
  },
  {
   "cell_type": "code",
   "execution_count": 87,
   "id": "e90013f5",
   "metadata": {},
   "outputs": [
    {
     "data": {
      "text/plain": [
       "datetime.datetime(2021, 10, 15, 20, 45, 32, 500000)"
      ]
     },
     "execution_count": 87,
     "metadata": {},
     "output_type": "execute_result"
    }
   ],
   "source": [
    "#Nos centramos en el módulo \"datetime\" (date + time)\n",
    "#Creamos una varibale my_datetime\n",
    "my_datetime=datetime(year=2021, month=10, day=15, hour=20, minute=45, second=32, microsecond=500000) #Constructor con valores de datetime\n",
    "#O\n",
    "#my_datetime=datetime(2021, 10, 15, 20, 45, 32, 500000) \n",
    "my_datetime"
   ]
  },
  {
   "cell_type": "code",
   "execution_count": 89,
   "id": "4dfaca45",
   "metadata": {},
   "outputs": [
    {
     "data": {
      "text/plain": [
       "datetime.datetime"
      ]
     },
     "execution_count": 89,
     "metadata": {},
     "output_type": "execute_result"
    }
   ],
   "source": [
    "#Verificamos el tipo de datos\n",
    "type(my_datetime)\n",
    "#tipo datetime"
   ]
  },
  {
   "cell_type": "code",
   "execution_count": 96,
   "id": "b9cd4564",
   "metadata": {},
   "outputs": [
    {
     "name": "stdout",
     "output_type": "stream",
     "text": [
      "2021-10-15 18:20:32.500000\n"
     ]
    }
   ],
   "source": [
    "#Mostramos el valor de my_datetime\n",
    "print(my_datetime)"
   ]
  },
  {
   "cell_type": "code",
   "execution_count": 103,
   "id": "72949415",
   "metadata": {},
   "outputs": [
    {
     "data": {
      "text/plain": [
       "500000"
      ]
     },
     "execution_count": 103,
     "metadata": {},
     "output_type": "execute_result"
    }
   ],
   "source": [
    "#Se puden usar las funciones del módulo de \"date\" y \"time\"\n",
    "my_datetime.year\n",
    "my_datetime.month\n",
    "my_datetime.day\n",
    "my_datetime.hour\n",
    "my_datetime.minute\n",
    "my_datetime.second\n",
    "my_datetime.microsecond"
   ]
  },
  {
   "cell_type": "code",
   "execution_count": 95,
   "id": "5e778aa8",
   "metadata": {},
   "outputs": [
    {
     "name": "stdout",
     "output_type": "stream",
     "text": [
      "2021-10-15 18:20:32.500000\n"
     ]
    }
   ],
   "source": [
    "# Uso de \"replace\": reemplazar valores (actualizar)\n",
    "my_datetime= my_datetime.replace(hour=18,minute=20) #Remplazamos los valores del dataframe por la hora 18 y el minuto 20\n",
    "#Verificamos el cambio o remplazo de valores\n",
    "print(my_datetime)"
   ]
  },
  {
   "cell_type": "markdown",
   "id": "a572d182",
   "metadata": {},
   "source": [
    "### strftime() - Convertir objetos de datetime en cadenas"
   ]
  },
  {
   "cell_type": "code",
   "execution_count": 104,
   "id": "538a974b",
   "metadata": {},
   "outputs": [],
   "source": [
    "#Cuandro trabajamos en Python, necesitaremos la fecha y hora formateada como una CADENA\n",
    "# Para eso se utiliza .strftime() /String Format Time/\n",
    "# Convierte un datetime en cadena\n",
    "\n",
    "#Importamos los módulo date y datetime\n",
    "from datetime import date, datetime"
   ]
  },
  {
   "cell_type": "code",
   "execution_count": 111,
   "id": "5499b907",
   "metadata": {},
   "outputs": [
    {
     "name": "stdout",
     "output_type": "stream",
     "text": [
      "2022-02-20\n"
     ]
    }
   ],
   "source": [
    "#Creamos una variable\n",
    "my_date=date(2022,2,20) #con el formato date en el constructor\n",
    "#Mostramos la fecha\n",
    "print(my_date)"
   ]
  },
  {
   "cell_type": "code",
   "execution_count": null,
   "id": "5f6fc993",
   "metadata": {},
   "outputs": [],
   "source": [
    "# Format Codes\n",
    "# %Y : year : 2022\n",
    "# %y : year : 22\n",
    "# %m : month : 02\n",
    "# %d : day : 20\n",
    "# %H : hour(s)\n",
    "# %M : munute(s)\n",
    "# %S : second(s)"
   ]
  },
  {
   "cell_type": "code",
   "execution_count": 120,
   "id": "81f7b841",
   "metadata": {},
   "outputs": [
    {
     "data": {
      "text/plain": [
       "'2022'"
      ]
     },
     "execution_count": 120,
     "metadata": {},
     "output_type": "execute_result"
    }
   ],
   "source": [
    "#Para obtener el año en CADENA \n",
    "my_date.strftime('%Y')"
   ]
  },
  {
   "cell_type": "code",
   "execution_count": 122,
   "id": "bc7ab975",
   "metadata": {},
   "outputs": [
    {
     "data": {
      "text/plain": [
       "str"
      ]
     },
     "execution_count": 122,
     "metadata": {},
     "output_type": "execute_result"
    }
   ],
   "source": [
    "#Verificamos el tipo de dato del resultado\n",
    "type(my_date.strftime('%Y'))\n",
    "#Observamos que es una cadena"
   ]
  },
  {
   "cell_type": "code",
   "execution_count": 124,
   "id": "245fdc23",
   "metadata": {},
   "outputs": [
    {
     "data": {
      "text/plain": [
       "'02'"
      ]
     },
     "execution_count": 124,
     "metadata": {},
     "output_type": "execute_result"
    }
   ],
   "source": [
    "#Para obtener el mes en CADENA\n",
    "my_date.strftime('%m')"
   ]
  },
  {
   "cell_type": "code",
   "execution_count": 126,
   "id": "733fd640",
   "metadata": {},
   "outputs": [
    {
     "data": {
      "text/plain": [
       "'20'"
      ]
     },
     "execution_count": 126,
     "metadata": {},
     "output_type": "execute_result"
    }
   ],
   "source": [
    "#Para obtener el día en CADENA\n",
    "my_date.strftime('%d')"
   ]
  },
  {
   "cell_type": "code",
   "execution_count": 128,
   "id": "645d8344",
   "metadata": {},
   "outputs": [
    {
     "name": "stdout",
     "output_type": "stream",
     "text": [
      "2021-05-18 21:41:23.500000\n"
     ]
    }
   ],
   "source": [
    "#Creamos un variable con valores en el constructor de datetime\n",
    "my_datetime=datetime(2021,5,18,21,41,23,500000)\n",
    "#Mostramos la fecha\n",
    "print(my_datetime)"
   ]
  },
  {
   "cell_type": "code",
   "execution_count": 130,
   "id": "ee6cb98d",
   "metadata": {},
   "outputs": [
    {
     "data": {
      "text/plain": [
       "'21'"
      ]
     },
     "execution_count": 130,
     "metadata": {},
     "output_type": "execute_result"
    }
   ],
   "source": [
    "#Obtener hora en CADENA\n",
    "my_datetime.strftime('%H')"
   ]
  },
  {
   "cell_type": "code",
   "execution_count": 132,
   "id": "1853dfca",
   "metadata": {},
   "outputs": [
    {
     "data": {
      "text/plain": [
       "'41'"
      ]
     },
     "execution_count": 132,
     "metadata": {},
     "output_type": "execute_result"
    }
   ],
   "source": [
    "#Obtener minutos en CADENA\n",
    "my_datetime.strftime('%M')"
   ]
  },
  {
   "cell_type": "code",
   "execution_count": 136,
   "id": "4e181a13",
   "metadata": {},
   "outputs": [
    {
     "data": {
      "text/plain": [
       "'23'"
      ]
     },
     "execution_count": 136,
     "metadata": {},
     "output_type": "execute_result"
    }
   ],
   "source": [
    "#Obtener segundos en CADENA\n",
    "my_datetime.strftime('%S')"
   ]
  },
  {
   "cell_type": "markdown",
   "id": "4b70528f",
   "metadata": {},
   "source": [
    "### strptime() - Convertir cadenas en objetos datetime"
   ]
  },
  {
   "cell_type": "code",
   "execution_count": 137,
   "id": "d66a29df",
   "metadata": {},
   "outputs": [],
   "source": [
    "#Manipularemos los datos con el método .strptime() \"String parse time\"\n",
    "#Importamos el módulo datetime\n",
    "from datetime import datetime"
   ]
  },
  {
   "cell_type": "code",
   "execution_count": 140,
   "id": "ccf553c7",
   "metadata": {},
   "outputs": [
    {
     "data": {
      "text/plain": [
       "'2022-10-10 14:25:30'"
      ]
     },
     "execution_count": 140,
     "metadata": {},
     "output_type": "execute_result"
    }
   ],
   "source": [
    "#Creamos una variable de tipo CADENA\n",
    "string_datetime='2022-10-10 14:25:30'\n",
    "string_datetime"
   ]
  },
  {
   "cell_type": "code",
   "execution_count": 142,
   "id": "4f712bf6",
   "metadata": {},
   "outputs": [
    {
     "data": {
      "text/plain": [
       "str"
      ]
     },
     "execution_count": 142,
     "metadata": {},
     "output_type": "execute_result"
    }
   ],
   "source": [
    "#Verificamos el tipo de dato\n",
    "type(string_datetime)\n",
    "#Es una cadena"
   ]
  },
  {
   "cell_type": "code",
   "execution_count": 143,
   "id": "8809ed1e",
   "metadata": {},
   "outputs": [],
   "source": [
    "# NOTA: Tener en cuenta que en Python puede ser complicado usar cadena para operaciones con datetime\n",
    "# Es más práctico trabajar con datetime - por eso convertiremos de CADENA a un objeto DATETIME"
   ]
  },
  {
   "cell_type": "code",
   "execution_count": 145,
   "id": "1b60ab86",
   "metadata": {},
   "outputs": [
    {
     "data": {
      "text/plain": [
       "datetime.datetime(2022, 10, 10, 14, 25, 30)"
      ]
     },
     "execution_count": 145,
     "metadata": {},
     "output_type": "execute_result"
    }
   ],
   "source": [
    "#Convertir de CADENA a DATETIME\n",
    "datetime.strptime(string_datetime, '%Y-%m-%d %H:%M:%S') # strptime(cadena, 'formato_código')"
   ]
  },
  {
   "cell_type": "markdown",
   "id": "f67aea32",
   "metadata": {},
   "source": [
    "### pd.to_datetime() - Converción de datos a objetos datetime"
   ]
  },
  {
   "cell_type": "code",
   "execution_count": 146,
   "id": "ce5d0621",
   "metadata": {},
   "outputs": [],
   "source": [
    "# Para convertir otros tipos de datos a objeto DATETIME, utilizaremos PANDAS\n",
    "import pandas as pd "
   ]
  },
  {
   "cell_type": "code",
   "execution_count": 148,
   "id": "dae544c2",
   "metadata": {},
   "outputs": [
    {
     "data": {
      "text/plain": [
       "Timestamp('2022-10-10 14:25:30')"
      ]
     },
     "execution_count": 148,
     "metadata": {},
     "output_type": "execute_result"
    }
   ],
   "source": [
    "#Utilizamos la variable anteriormente creada \"string_datetime\"\n",
    "\n",
    "#Convertir CADENA a DATETIME con pd.to_datetime()\n",
    "\n",
    "#Creamos una nueva variable\n",
    "new_datetime=pd.to_datetime(string_datetime, format='%Y-%m-%d %H:%M:%S') #pd.to_datetime(cadena, 'formato_código')\n",
    "new_datetime"
   ]
  },
  {
   "cell_type": "code",
   "execution_count": 150,
   "id": "96057a00",
   "metadata": {},
   "outputs": [
    {
     "data": {
      "text/plain": [
       "pandas._libs.tslibs.timestamps.Timestamp"
      ]
     },
     "execution_count": 150,
     "metadata": {},
     "output_type": "execute_result"
    }
   ],
   "source": [
    "#Verificamos el tipo de dato\n",
    "type(new_datetime)\n",
    "# Timestamp: Date + Time"
   ]
  },
  {
   "cell_type": "code",
   "execution_count": 154,
   "id": "a2d688d2",
   "metadata": {},
   "outputs": [
    {
     "data": {
      "text/plain": [
       "Timestamp('2022-10-10 14:25:30')"
      ]
     },
     "execution_count": 154,
     "metadata": {},
     "output_type": "execute_result"
    }
   ],
   "source": [
    "#Sin el parámetro de \"format\", Pandas ordenará la fecha de manera inteligente (YEAR MONTH DAY HOUR MINUTR SECOND):\n",
    "new_datetime=pd.to_datetime(string_datetime)\n",
    "new_datetime"
   ]
  },
  {
   "cell_type": "code",
   "execution_count": 161,
   "id": "8eba1a01",
   "metadata": {},
   "outputs": [
    {
     "data": {
      "text/plain": [
       "30"
      ]
     },
     "execution_count": 161,
     "metadata": {},
     "output_type": "execute_result"
    }
   ],
   "source": [
    "#Obtener YEAR, MONTH, DAY, HOUR, MINUTE y SECOND con pd.to_datetime()\n",
    "new_datetime.year\n",
    "new_datetime.month\n",
    "new_datetime.day\n",
    "new_datetime.hour\n",
    "new_datetime.minute\n",
    "new_datetime.second"
   ]
  },
  {
   "cell_type": "code",
   "execution_count": 164,
   "id": "8cc00294",
   "metadata": {},
   "outputs": [
    {
     "data": {
      "text/html": [
       "<div>\n",
       "<style scoped>\n",
       "    .dataframe tbody tr th:only-of-type {\n",
       "        vertical-align: middle;\n",
       "    }\n",
       "\n",
       "    .dataframe tbody tr th {\n",
       "        vertical-align: top;\n",
       "    }\n",
       "\n",
       "    .dataframe thead th {\n",
       "        text-align: right;\n",
       "    }\n",
       "</style>\n",
       "<table border=\"1\" class=\"dataframe\">\n",
       "  <thead>\n",
       "    <tr style=\"text-align: right;\">\n",
       "      <th></th>\n",
       "      <th>StringID</th>\n",
       "      <th>Product</th>\n",
       "      <th>CustomerGender</th>\n",
       "      <th>Location</th>\n",
       "      <th>Region</th>\n",
       "      <th>TotalPrice</th>\n",
       "      <th>StartDate</th>\n",
       "      <th>Deposit</th>\n",
       "      <th>DailyRate</th>\n",
       "      <th>TotalDaysYr</th>\n",
       "      <th>AmtPaid36</th>\n",
       "      <th>AmtPaid60</th>\n",
       "      <th>AmtPaid360</th>\n",
       "      <th>LoanStatus</th>\n",
       "    </tr>\n",
       "    <tr>\n",
       "      <th>LoanID</th>\n",
       "      <th></th>\n",
       "      <th></th>\n",
       "      <th></th>\n",
       "      <th></th>\n",
       "      <th></th>\n",
       "      <th></th>\n",
       "      <th></th>\n",
       "      <th></th>\n",
       "      <th></th>\n",
       "      <th></th>\n",
       "      <th></th>\n",
       "      <th></th>\n",
       "      <th></th>\n",
       "      <th></th>\n",
       "    </tr>\n",
       "  </thead>\n",
       "  <tbody>\n",
       "    <tr>\n",
       "      <th>1</th>\n",
       "      <td>LoanID_1</td>\n",
       "      <td>Product B</td>\n",
       "      <td>Female</td>\n",
       "      <td>Location 3</td>\n",
       "      <td>Region 2</td>\n",
       "      <td>17600.0</td>\n",
       "      <td>2018-04-07</td>\n",
       "      <td>2200</td>\n",
       "      <td>45</td>\n",
       "      <td>365</td>\n",
       "      <td>3221</td>\n",
       "      <td>4166</td>\n",
       "      <td>14621</td>\n",
       "      <td>Active</td>\n",
       "    </tr>\n",
       "    <tr>\n",
       "      <th>2</th>\n",
       "      <td>LoanID_2</td>\n",
       "      <td>Product D</td>\n",
       "      <td>Female</td>\n",
       "      <td>Location 6</td>\n",
       "      <td>Region 6</td>\n",
       "      <td>NaN</td>\n",
       "      <td>2019-02-01</td>\n",
       "      <td>2200</td>\n",
       "      <td>45</td>\n",
       "      <td>365</td>\n",
       "      <td>3161</td>\n",
       "      <td>4096</td>\n",
       "      <td>16041</td>\n",
       "      <td>Active</td>\n",
       "    </tr>\n",
       "    <tr>\n",
       "      <th>3</th>\n",
       "      <td>LoanID_3</td>\n",
       "      <td>Product B</td>\n",
       "      <td>Male</td>\n",
       "      <td>Location 8</td>\n",
       "      <td>Region 3</td>\n",
       "      <td>16600.0</td>\n",
       "      <td>2016-08-12</td>\n",
       "      <td>1000</td>\n",
       "      <td>45</td>\n",
       "      <td>365</td>\n",
       "      <td>2260</td>\n",
       "      <td>3205</td>\n",
       "      <td>16340</td>\n",
       "      <td>NaN</td>\n",
       "    </tr>\n",
       "    <tr>\n",
       "      <th>4</th>\n",
       "      <td>LoanID_4</td>\n",
       "      <td>Product A</td>\n",
       "      <td>Male</td>\n",
       "      <td>Location 26</td>\n",
       "      <td>Region 2</td>\n",
       "      <td>17600.0</td>\n",
       "      <td>NaT</td>\n",
       "      <td>2200</td>\n",
       "      <td>45</td>\n",
       "      <td>365</td>\n",
       "      <td>3141</td>\n",
       "      <td>4166</td>\n",
       "      <td>16321</td>\n",
       "      <td>Active</td>\n",
       "    </tr>\n",
       "    <tr>\n",
       "      <th>5</th>\n",
       "      <td>LoanID_5</td>\n",
       "      <td>Product B</td>\n",
       "      <td>Female</td>\n",
       "      <td>Location 34</td>\n",
       "      <td>Region 3</td>\n",
       "      <td>21250.0</td>\n",
       "      <td>2017-10-28</td>\n",
       "      <td>2200</td>\n",
       "      <td>55</td>\n",
       "      <td>365</td>\n",
       "      <td>3570</td>\n",
       "      <td>4745</td>\n",
       "      <td>14720</td>\n",
       "      <td>Active</td>\n",
       "    </tr>\n",
       "  </tbody>\n",
       "</table>\n",
       "</div>"
      ],
      "text/plain": [
       "        StringID    Product CustomerGender     Location    Region  TotalPrice  \\\n",
       "LoanID                                                                          \n",
       "1       LoanID_1  Product B         Female   Location 3  Region 2     17600.0   \n",
       "2       LoanID_2  Product D         Female   Location 6  Region 6         NaN   \n",
       "3       LoanID_3  Product B           Male   Location 8  Region 3     16600.0   \n",
       "4       LoanID_4  Product A           Male  Location 26  Region 2     17600.0   \n",
       "5       LoanID_5  Product B         Female  Location 34  Region 3     21250.0   \n",
       "\n",
       "        StartDate  Deposit  DailyRate  TotalDaysYr  AmtPaid36  AmtPaid60  \\\n",
       "LoanID                                                                     \n",
       "1      2018-04-07     2200         45          365       3221       4166   \n",
       "2      2019-02-01     2200         45          365       3161       4096   \n",
       "3      2016-08-12     1000         45          365       2260       3205   \n",
       "4             NaT     2200         45          365       3141       4166   \n",
       "5      2017-10-28     2200         55          365       3570       4745   \n",
       "\n",
       "        AmtPaid360 LoanStatus  \n",
       "LoanID                         \n",
       "1            14621     Active  \n",
       "2            16041     Active  \n",
       "3            16340        NaN  \n",
       "4            16321     Active  \n",
       "5            14720     Active  "
      ]
     },
     "execution_count": 164,
     "metadata": {},
     "output_type": "execute_result"
    }
   ],
   "source": [
    "# AHORA UTILIZAREMOS LA DATA QUE IMPORTAMOS\n",
    "datacopy.head()"
   ]
  },
  {
   "cell_type": "code",
   "execution_count": 170,
   "id": "6ed786d3",
   "metadata": {},
   "outputs": [
    {
     "data": {
      "text/plain": [
       "LoanID\n",
       "1    04/07/2018\n",
       "2    02/01/2019\n",
       "3    08/12/2016\n",
       "4           NaN\n",
       "5    28/10/2017\n",
       "Name: StartDate, dtype: object"
      ]
     },
     "execution_count": 170,
     "metadata": {},
     "output_type": "execute_result"
    }
   ],
   "source": [
    "#Nos interesa la columna \"StartDate\"\n",
    "datacopy['StartDate'].head()\n",
    "#De tipo: Object - String"
   ]
  },
  {
   "cell_type": "code",
   "execution_count": 176,
   "id": "3bd323c3",
   "metadata": {},
   "outputs": [
    {
     "name": "stdout",
     "output_type": "stream",
     "text": [
      "<class 'pandas.core.frame.DataFrame'>\n",
      "Int64Index: 1043 entries, 1 to 1043\n",
      "Data columns (total 14 columns):\n",
      " #   Column          Non-Null Count  Dtype         \n",
      "---  ------          --------------  -----         \n",
      " 0   StringID        1043 non-null   object        \n",
      " 1   Product         1043 non-null   object        \n",
      " 2   CustomerGender  1043 non-null   object        \n",
      " 3   Location        1043 non-null   object        \n",
      " 4   Region          1042 non-null   object        \n",
      " 5   TotalPrice      1018 non-null   float64       \n",
      " 6   StartDate       1042 non-null   datetime64[ns]\n",
      " 7   Deposit         1043 non-null   int64         \n",
      " 8   DailyRate       1043 non-null   int64         \n",
      " 9   TotalDaysYr     1043 non-null   int64         \n",
      " 10  AmtPaid36       1043 non-null   int64         \n",
      " 11  AmtPaid60       1043 non-null   int64         \n",
      " 12  AmtPaid360      1043 non-null   int64         \n",
      " 13  LoanStatus      1006 non-null   object        \n",
      "dtypes: datetime64[ns](1), float64(1), int64(6), object(6)\n",
      "memory usage: 122.2+ KB\n"
     ]
    }
   ],
   "source": [
    "#Formatear la columna \"StartDate\" en tipo de dato DATETIME\n",
    "datacopy['StartDate']=pd.to_datetime(datacopy['StartDate']) #Formateamos a DATETIME\n",
    "#Obtener info de la data\n",
    "datacopy.info() \n",
    "#StartDate: tipo datetime64[ns]"
   ]
  },
  {
   "cell_type": "markdown",
   "id": "1f8f73a9",
   "metadata": {},
   "source": [
    "### Aplicación Práctica: Timestamps"
   ]
  },
  {
   "cell_type": "code",
   "execution_count": 180,
   "id": "943c4560",
   "metadata": {},
   "outputs": [],
   "source": [
    "#Importamos el módulo datetime, como también pandas y numpy\n",
    "from datetime import datetime\n",
    "import pandas as pd\n",
    "import numpy as np"
   ]
  },
  {
   "cell_type": "code",
   "execution_count": 182,
   "id": "ec85188c",
   "metadata": {},
   "outputs": [],
   "source": [
    "#Creamos una variable y le asignamos un valor flotante de 13 digitos\n",
    "timestamp=158215801.2000 #Tener en cuenta que el punto decimal separa los: [segundos].[microsegundos]"
   ]
  },
  {
   "cell_type": "code",
   "execution_count": 184,
   "id": "a3b4c110",
   "metadata": {},
   "outputs": [
    {
     "name": "stdout",
     "output_type": "stream",
     "text": [
      "1975-01-05 23:50:01.200000\n"
     ]
    }
   ],
   "source": [
    "#Para poder convertir el tipo de dato flotante a objeto datetime\n",
    "\n",
    "# a datetime\n",
    "\n",
    "# .fromtimestamp(), permite convertir datos numércios a datetime\n",
    "print(datetime.fromtimestamp(timestamp)) #transforma el número de segundos a valores de fecha y hora"
   ]
  },
  {
   "cell_type": "code",
   "execution_count": 185,
   "id": "3bd00a65",
   "metadata": {},
   "outputs": [
    {
     "name": "stdout",
     "output_type": "stream",
     "text": [
      "1975-01-06 04:50:01.200000\n"
     ]
    }
   ],
   "source": [
    "# a UTC\n",
    "print(datetime.utcfromtimestamp(timestamp)) #transforma el número de segundos a valores de fecha y hora"
   ]
  },
  {
   "cell_type": "code",
   "execution_count": 188,
   "id": "804cc009",
   "metadata": {},
   "outputs": [
    {
     "data": {
      "text/plain": [
       "datetime.datetime(2021, 10, 21, 20, 30, 45, 450000)"
      ]
     },
     "execution_count": 188,
     "metadata": {},
     "output_type": "execute_result"
    }
   ],
   "source": [
    "# a timestamp  - Convertir un datetime a timestamp\n",
    "\n",
    "#Creamos una variable con datos datetime\n",
    "my_datetime=datetime(2021,10,21,20,30,45,450000)\n",
    "my_datetime"
   ]
  },
  {
   "cell_type": "code",
   "execution_count": 190,
   "id": "34f85dc7",
   "metadata": {},
   "outputs": [
    {
     "data": {
      "text/plain": [
       "1634866245.45"
      ]
     },
     "execution_count": 190,
     "metadata": {},
     "output_type": "execute_result"
    }
   ],
   "source": [
    "# Convertir de datetime a timestamp\n",
    "my_datetime.timestamp() #total de segundos"
   ]
  },
  {
   "cell_type": "code",
   "execution_count": 194,
   "id": "316a2f9d",
   "metadata": {},
   "outputs": [
    {
     "name": "stdout",
     "output_type": "stream",
     "text": [
      "2022-11-07 14:24:48.900300\n"
     ]
    }
   ],
   "source": [
    "# OBTENER FECHA ACTUAL\n",
    "print(datetime.now())"
   ]
  },
  {
   "cell_type": "code",
   "execution_count": 196,
   "id": "fa07da27",
   "metadata": {},
   "outputs": [
    {
     "data": {
      "text/plain": [
       "Timestamp('2022-05-10 21:45:00')"
      ]
     },
     "execution_count": 196,
     "metadata": {},
     "output_type": "execute_result"
    }
   ],
   "source": [
    "# Representación en Pandas\n",
    "pandas_timestamp=pd.Timestamp(datetime(2022,5,10,21,45))\n",
    "pandas_timestamp"
   ]
  },
  {
   "cell_type": "code",
   "execution_count": 199,
   "id": "3df42f7d",
   "metadata": {},
   "outputs": [
    {
     "data": {
      "text/plain": [
       "numpy.datetime64('2022-05-10T21:45:00')"
      ]
     },
     "execution_count": 199,
     "metadata": {},
     "output_type": "execute_result"
    }
   ],
   "source": [
    "# Representación en Numpy\n",
    "numpy_timestamp= np.datetime64('2022-05-10 21:45:00')\n",
    "numpy_timestamp"
   ]
  },
  {
   "cell_type": "markdown",
   "id": "c97be56b",
   "metadata": {},
   "source": [
    "### Conversión entre Time Zones (Zonas Horarias)"
   ]
  },
  {
   "cell_type": "code",
   "execution_count": 201,
   "id": "191c353f",
   "metadata": {},
   "outputs": [],
   "source": [
    "#Para trabajar con Time Zones utilizaremos el módulo \"pytz\" y \"datetime\"\n",
    "# Time Zones: indica la hora local para una región geográfica fija.\n",
    "import pytz\n",
    "from datetime import datetime"
   ]
  },
  {
   "cell_type": "code",
   "execution_count": 203,
   "id": "5188e815",
   "metadata": {},
   "outputs": [
    {
     "name": "stdout",
     "output_type": "stream",
     "text": [
      "2022-07-11 15:49:00\n"
     ]
    }
   ],
   "source": [
    "#Creamos una variable de tipo objeto datetime\n",
    "my_datetime=datetime(2022,7,11,15,49)\n",
    "#Mostramos el datetime\n",
    "print(my_datetime)"
   ]
  },
  {
   "cell_type": "code",
   "execution_count": 207,
   "id": "57ce5c21",
   "metadata": {},
   "outputs": [
    {
     "name": "stdout",
     "output_type": "stream",
     "text": [
      "None\n"
     ]
    }
   ],
   "source": [
    "#El datetime mostrado no muestra información de zona horaria\n",
    "#Mostrar información de las zonas horarias\n",
    "my_datetime.tzinfo\n",
    "print(my_datetime.tzinfo)\n",
    "# None: A naive object"
   ]
  },
  {
   "cell_type": "code",
   "execution_count": 208,
   "id": "2207a2ad",
   "metadata": {},
   "outputs": [
    {
     "name": "stdout",
     "output_type": "stream",
     "text": [
      "2022-07-11 15:49:00+00:00\n"
     ]
    }
   ],
   "source": [
    "# pytz tiene una BD de zona horaria real llamada \"Olson\"\n",
    "#Para que se registre la zona horaria:\n",
    "my_timezone_info=datetime(2022,7,11,15,49, tzinfo=pytz.UTC) #asignamos UTC\n",
    "print(my_timezone_info)"
   ]
  },
  {
   "cell_type": "code",
   "execution_count": 210,
   "id": "d449c4e3",
   "metadata": {},
   "outputs": [
    {
     "name": "stdout",
     "output_type": "stream",
     "text": [
      "UTC\n"
     ]
    }
   ],
   "source": [
    "#UTC: significa que podemos convertir a diferentes zonas horarias\n",
    "print(my_timezone_info.tzinfo)"
   ]
  },
  {
   "cell_type": "code",
   "execution_count": 215,
   "id": "469e5b16",
   "metadata": {},
   "outputs": [
    {
     "data": {
      "text/plain": [
       "['Africa/Abidjan',\n",
       " 'Africa/Accra',\n",
       " 'Africa/Addis_Ababa',\n",
       " 'Africa/Algiers',\n",
       " 'Africa/Asmara',\n",
       " 'Africa/Asmera',\n",
       " 'Africa/Bamako',\n",
       " 'Africa/Bangui',\n",
       " 'Africa/Banjul',\n",
       " 'Africa/Bissau',\n",
       " 'Africa/Blantyre',\n",
       " 'Africa/Brazzaville',\n",
       " 'Africa/Bujumbura',\n",
       " 'Africa/Cairo',\n",
       " 'Africa/Casablanca',\n",
       " 'Africa/Ceuta',\n",
       " 'Africa/Conakry',\n",
       " 'Africa/Dakar',\n",
       " 'Africa/Dar_es_Salaam',\n",
       " 'Africa/Djibouti',\n",
       " 'Africa/Douala',\n",
       " 'Africa/El_Aaiun',\n",
       " 'Africa/Freetown',\n",
       " 'Africa/Gaborone',\n",
       " 'Africa/Harare',\n",
       " 'Africa/Johannesburg',\n",
       " 'Africa/Juba',\n",
       " 'Africa/Kampala',\n",
       " 'Africa/Khartoum',\n",
       " 'Africa/Kigali',\n",
       " 'Africa/Kinshasa',\n",
       " 'Africa/Lagos',\n",
       " 'Africa/Libreville',\n",
       " 'Africa/Lome',\n",
       " 'Africa/Luanda',\n",
       " 'Africa/Lubumbashi',\n",
       " 'Africa/Lusaka',\n",
       " 'Africa/Malabo',\n",
       " 'Africa/Maputo',\n",
       " 'Africa/Maseru',\n",
       " 'Africa/Mbabane',\n",
       " 'Africa/Mogadishu',\n",
       " 'Africa/Monrovia',\n",
       " 'Africa/Nairobi',\n",
       " 'Africa/Ndjamena',\n",
       " 'Africa/Niamey',\n",
       " 'Africa/Nouakchott',\n",
       " 'Africa/Ouagadougou',\n",
       " 'Africa/Porto-Novo',\n",
       " 'Africa/Sao_Tome',\n",
       " 'Africa/Timbuktu',\n",
       " 'Africa/Tripoli',\n",
       " 'Africa/Tunis',\n",
       " 'Africa/Windhoek',\n",
       " 'America/Adak',\n",
       " 'America/Anchorage',\n",
       " 'America/Anguilla',\n",
       " 'America/Antigua',\n",
       " 'America/Araguaina',\n",
       " 'America/Argentina/Buenos_Aires',\n",
       " 'America/Argentina/Catamarca',\n",
       " 'America/Argentina/ComodRivadavia',\n",
       " 'America/Argentina/Cordoba',\n",
       " 'America/Argentina/Jujuy',\n",
       " 'America/Argentina/La_Rioja',\n",
       " 'America/Argentina/Mendoza',\n",
       " 'America/Argentina/Rio_Gallegos',\n",
       " 'America/Argentina/Salta',\n",
       " 'America/Argentina/San_Juan',\n",
       " 'America/Argentina/San_Luis',\n",
       " 'America/Argentina/Tucuman',\n",
       " 'America/Argentina/Ushuaia',\n",
       " 'America/Aruba',\n",
       " 'America/Asuncion',\n",
       " 'America/Atikokan',\n",
       " 'America/Atka',\n",
       " 'America/Bahia',\n",
       " 'America/Bahia_Banderas',\n",
       " 'America/Barbados',\n",
       " 'America/Belem',\n",
       " 'America/Belize',\n",
       " 'America/Blanc-Sablon',\n",
       " 'America/Boa_Vista',\n",
       " 'America/Bogota',\n",
       " 'America/Boise',\n",
       " 'America/Buenos_Aires',\n",
       " 'America/Cambridge_Bay',\n",
       " 'America/Campo_Grande',\n",
       " 'America/Cancun',\n",
       " 'America/Caracas',\n",
       " 'America/Catamarca',\n",
       " 'America/Cayenne',\n",
       " 'America/Cayman',\n",
       " 'America/Chicago',\n",
       " 'America/Chihuahua',\n",
       " 'America/Coral_Harbour',\n",
       " 'America/Cordoba',\n",
       " 'America/Costa_Rica',\n",
       " 'America/Creston',\n",
       " 'America/Cuiaba',\n",
       " 'America/Curacao',\n",
       " 'America/Danmarkshavn',\n",
       " 'America/Dawson',\n",
       " 'America/Dawson_Creek',\n",
       " 'America/Denver',\n",
       " 'America/Detroit',\n",
       " 'America/Dominica',\n",
       " 'America/Edmonton',\n",
       " 'America/Eirunepe',\n",
       " 'America/El_Salvador',\n",
       " 'America/Ensenada',\n",
       " 'America/Fort_Nelson',\n",
       " 'America/Fort_Wayne',\n",
       " 'America/Fortaleza',\n",
       " 'America/Glace_Bay',\n",
       " 'America/Godthab',\n",
       " 'America/Goose_Bay',\n",
       " 'America/Grand_Turk',\n",
       " 'America/Grenada',\n",
       " 'America/Guadeloupe',\n",
       " 'America/Guatemala',\n",
       " 'America/Guayaquil',\n",
       " 'America/Guyana',\n",
       " 'America/Halifax',\n",
       " 'America/Havana',\n",
       " 'America/Hermosillo',\n",
       " 'America/Indiana/Indianapolis',\n",
       " 'America/Indiana/Knox',\n",
       " 'America/Indiana/Marengo',\n",
       " 'America/Indiana/Petersburg',\n",
       " 'America/Indiana/Tell_City',\n",
       " 'America/Indiana/Vevay',\n",
       " 'America/Indiana/Vincennes',\n",
       " 'America/Indiana/Winamac',\n",
       " 'America/Indianapolis',\n",
       " 'America/Inuvik',\n",
       " 'America/Iqaluit',\n",
       " 'America/Jamaica',\n",
       " 'America/Jujuy',\n",
       " 'America/Juneau',\n",
       " 'America/Kentucky/Louisville',\n",
       " 'America/Kentucky/Monticello',\n",
       " 'America/Knox_IN',\n",
       " 'America/Kralendijk',\n",
       " 'America/La_Paz',\n",
       " 'America/Lima',\n",
       " 'America/Los_Angeles',\n",
       " 'America/Louisville',\n",
       " 'America/Lower_Princes',\n",
       " 'America/Maceio',\n",
       " 'America/Managua',\n",
       " 'America/Manaus',\n",
       " 'America/Marigot',\n",
       " 'America/Martinique',\n",
       " 'America/Matamoros',\n",
       " 'America/Mazatlan',\n",
       " 'America/Mendoza',\n",
       " 'America/Menominee',\n",
       " 'America/Merida',\n",
       " 'America/Metlakatla',\n",
       " 'America/Mexico_City',\n",
       " 'America/Miquelon',\n",
       " 'America/Moncton',\n",
       " 'America/Monterrey',\n",
       " 'America/Montevideo',\n",
       " 'America/Montreal',\n",
       " 'America/Montserrat',\n",
       " 'America/Nassau',\n",
       " 'America/New_York',\n",
       " 'America/Nipigon',\n",
       " 'America/Nome',\n",
       " 'America/Noronha',\n",
       " 'America/North_Dakota/Beulah',\n",
       " 'America/North_Dakota/Center',\n",
       " 'America/North_Dakota/New_Salem',\n",
       " 'America/Nuuk',\n",
       " 'America/Ojinaga',\n",
       " 'America/Panama',\n",
       " 'America/Pangnirtung',\n",
       " 'America/Paramaribo',\n",
       " 'America/Phoenix',\n",
       " 'America/Port-au-Prince',\n",
       " 'America/Port_of_Spain',\n",
       " 'America/Porto_Acre',\n",
       " 'America/Porto_Velho',\n",
       " 'America/Puerto_Rico',\n",
       " 'America/Punta_Arenas',\n",
       " 'America/Rainy_River',\n",
       " 'America/Rankin_Inlet',\n",
       " 'America/Recife',\n",
       " 'America/Regina',\n",
       " 'America/Resolute',\n",
       " 'America/Rio_Branco',\n",
       " 'America/Rosario',\n",
       " 'America/Santa_Isabel',\n",
       " 'America/Santarem',\n",
       " 'America/Santiago',\n",
       " 'America/Santo_Domingo',\n",
       " 'America/Sao_Paulo',\n",
       " 'America/Scoresbysund',\n",
       " 'America/Shiprock',\n",
       " 'America/Sitka',\n",
       " 'America/St_Barthelemy',\n",
       " 'America/St_Johns',\n",
       " 'America/St_Kitts',\n",
       " 'America/St_Lucia',\n",
       " 'America/St_Thomas',\n",
       " 'America/St_Vincent',\n",
       " 'America/Swift_Current',\n",
       " 'America/Tegucigalpa',\n",
       " 'America/Thule',\n",
       " 'America/Thunder_Bay',\n",
       " 'America/Tijuana',\n",
       " 'America/Toronto',\n",
       " 'America/Tortola',\n",
       " 'America/Vancouver',\n",
       " 'America/Virgin',\n",
       " 'America/Whitehorse',\n",
       " 'America/Winnipeg',\n",
       " 'America/Yakutat',\n",
       " 'America/Yellowknife',\n",
       " 'Antarctica/Casey',\n",
       " 'Antarctica/Davis',\n",
       " 'Antarctica/DumontDUrville',\n",
       " 'Antarctica/Macquarie',\n",
       " 'Antarctica/Mawson',\n",
       " 'Antarctica/McMurdo',\n",
       " 'Antarctica/Palmer',\n",
       " 'Antarctica/Rothera',\n",
       " 'Antarctica/South_Pole',\n",
       " 'Antarctica/Syowa',\n",
       " 'Antarctica/Troll',\n",
       " 'Antarctica/Vostok',\n",
       " 'Arctic/Longyearbyen',\n",
       " 'Asia/Aden',\n",
       " 'Asia/Almaty',\n",
       " 'Asia/Amman',\n",
       " 'Asia/Anadyr',\n",
       " 'Asia/Aqtau',\n",
       " 'Asia/Aqtobe',\n",
       " 'Asia/Ashgabat',\n",
       " 'Asia/Ashkhabad',\n",
       " 'Asia/Atyrau',\n",
       " 'Asia/Baghdad',\n",
       " 'Asia/Bahrain',\n",
       " 'Asia/Baku',\n",
       " 'Asia/Bangkok',\n",
       " 'Asia/Barnaul',\n",
       " 'Asia/Beirut',\n",
       " 'Asia/Bishkek',\n",
       " 'Asia/Brunei',\n",
       " 'Asia/Calcutta',\n",
       " 'Asia/Chita',\n",
       " 'Asia/Choibalsan',\n",
       " 'Asia/Chongqing',\n",
       " 'Asia/Chungking',\n",
       " 'Asia/Colombo',\n",
       " 'Asia/Dacca',\n",
       " 'Asia/Damascus',\n",
       " 'Asia/Dhaka',\n",
       " 'Asia/Dili',\n",
       " 'Asia/Dubai',\n",
       " 'Asia/Dushanbe',\n",
       " 'Asia/Famagusta',\n",
       " 'Asia/Gaza',\n",
       " 'Asia/Harbin',\n",
       " 'Asia/Hebron',\n",
       " 'Asia/Ho_Chi_Minh',\n",
       " 'Asia/Hong_Kong',\n",
       " 'Asia/Hovd',\n",
       " 'Asia/Irkutsk',\n",
       " 'Asia/Istanbul',\n",
       " 'Asia/Jakarta',\n",
       " 'Asia/Jayapura',\n",
       " 'Asia/Jerusalem',\n",
       " 'Asia/Kabul',\n",
       " 'Asia/Kamchatka',\n",
       " 'Asia/Karachi',\n",
       " 'Asia/Kashgar',\n",
       " 'Asia/Kathmandu',\n",
       " 'Asia/Katmandu',\n",
       " 'Asia/Khandyga',\n",
       " 'Asia/Kolkata',\n",
       " 'Asia/Krasnoyarsk',\n",
       " 'Asia/Kuala_Lumpur',\n",
       " 'Asia/Kuching',\n",
       " 'Asia/Kuwait',\n",
       " 'Asia/Macao',\n",
       " 'Asia/Macau',\n",
       " 'Asia/Magadan',\n",
       " 'Asia/Makassar',\n",
       " 'Asia/Manila',\n",
       " 'Asia/Muscat',\n",
       " 'Asia/Nicosia',\n",
       " 'Asia/Novokuznetsk',\n",
       " 'Asia/Novosibirsk',\n",
       " 'Asia/Omsk',\n",
       " 'Asia/Oral',\n",
       " 'Asia/Phnom_Penh',\n",
       " 'Asia/Pontianak',\n",
       " 'Asia/Pyongyang',\n",
       " 'Asia/Qatar',\n",
       " 'Asia/Qostanay',\n",
       " 'Asia/Qyzylorda',\n",
       " 'Asia/Rangoon',\n",
       " 'Asia/Riyadh',\n",
       " 'Asia/Saigon',\n",
       " 'Asia/Sakhalin',\n",
       " 'Asia/Samarkand',\n",
       " 'Asia/Seoul',\n",
       " 'Asia/Shanghai',\n",
       " 'Asia/Singapore',\n",
       " 'Asia/Srednekolymsk',\n",
       " 'Asia/Taipei',\n",
       " 'Asia/Tashkent',\n",
       " 'Asia/Tbilisi',\n",
       " 'Asia/Tehran',\n",
       " 'Asia/Tel_Aviv',\n",
       " 'Asia/Thimbu',\n",
       " 'Asia/Thimphu',\n",
       " 'Asia/Tokyo',\n",
       " 'Asia/Tomsk',\n",
       " 'Asia/Ujung_Pandang',\n",
       " 'Asia/Ulaanbaatar',\n",
       " 'Asia/Ulan_Bator',\n",
       " 'Asia/Urumqi',\n",
       " 'Asia/Ust-Nera',\n",
       " 'Asia/Vientiane',\n",
       " 'Asia/Vladivostok',\n",
       " 'Asia/Yakutsk',\n",
       " 'Asia/Yangon',\n",
       " 'Asia/Yekaterinburg',\n",
       " 'Asia/Yerevan',\n",
       " 'Atlantic/Azores',\n",
       " 'Atlantic/Bermuda',\n",
       " 'Atlantic/Canary',\n",
       " 'Atlantic/Cape_Verde',\n",
       " 'Atlantic/Faeroe',\n",
       " 'Atlantic/Faroe',\n",
       " 'Atlantic/Jan_Mayen',\n",
       " 'Atlantic/Madeira',\n",
       " 'Atlantic/Reykjavik',\n",
       " 'Atlantic/South_Georgia',\n",
       " 'Atlantic/St_Helena',\n",
       " 'Atlantic/Stanley',\n",
       " 'Australia/ACT',\n",
       " 'Australia/Adelaide',\n",
       " 'Australia/Brisbane',\n",
       " 'Australia/Broken_Hill',\n",
       " 'Australia/Canberra',\n",
       " 'Australia/Currie',\n",
       " 'Australia/Darwin',\n",
       " 'Australia/Eucla',\n",
       " 'Australia/Hobart',\n",
       " 'Australia/LHI',\n",
       " 'Australia/Lindeman',\n",
       " 'Australia/Lord_Howe',\n",
       " 'Australia/Melbourne',\n",
       " 'Australia/NSW',\n",
       " 'Australia/North',\n",
       " 'Australia/Perth',\n",
       " 'Australia/Queensland',\n",
       " 'Australia/South',\n",
       " 'Australia/Sydney',\n",
       " 'Australia/Tasmania',\n",
       " 'Australia/Victoria',\n",
       " 'Australia/West',\n",
       " 'Australia/Yancowinna',\n",
       " 'Brazil/Acre',\n",
       " 'Brazil/DeNoronha',\n",
       " 'Brazil/East',\n",
       " 'Brazil/West',\n",
       " 'CET',\n",
       " 'CST6CDT',\n",
       " 'Canada/Atlantic',\n",
       " 'Canada/Central',\n",
       " 'Canada/Eastern',\n",
       " 'Canada/Mountain',\n",
       " 'Canada/Newfoundland',\n",
       " 'Canada/Pacific',\n",
       " 'Canada/Saskatchewan',\n",
       " 'Canada/Yukon',\n",
       " 'Chile/Continental',\n",
       " 'Chile/EasterIsland',\n",
       " 'Cuba',\n",
       " 'EET',\n",
       " 'EST',\n",
       " 'EST5EDT',\n",
       " 'Egypt',\n",
       " 'Eire',\n",
       " 'Etc/GMT',\n",
       " 'Etc/GMT+0',\n",
       " 'Etc/GMT+1',\n",
       " 'Etc/GMT+10',\n",
       " 'Etc/GMT+11',\n",
       " 'Etc/GMT+12',\n",
       " 'Etc/GMT+2',\n",
       " 'Etc/GMT+3',\n",
       " 'Etc/GMT+4',\n",
       " 'Etc/GMT+5',\n",
       " 'Etc/GMT+6',\n",
       " 'Etc/GMT+7',\n",
       " 'Etc/GMT+8',\n",
       " 'Etc/GMT+9',\n",
       " 'Etc/GMT-0',\n",
       " 'Etc/GMT-1',\n",
       " 'Etc/GMT-10',\n",
       " 'Etc/GMT-11',\n",
       " 'Etc/GMT-12',\n",
       " 'Etc/GMT-13',\n",
       " 'Etc/GMT-14',\n",
       " 'Etc/GMT-2',\n",
       " 'Etc/GMT-3',\n",
       " 'Etc/GMT-4',\n",
       " 'Etc/GMT-5',\n",
       " 'Etc/GMT-6',\n",
       " 'Etc/GMT-7',\n",
       " 'Etc/GMT-8',\n",
       " 'Etc/GMT-9',\n",
       " 'Etc/GMT0',\n",
       " 'Etc/Greenwich',\n",
       " 'Etc/UCT',\n",
       " 'Etc/UTC',\n",
       " 'Etc/Universal',\n",
       " 'Etc/Zulu',\n",
       " 'Europe/Amsterdam',\n",
       " 'Europe/Andorra',\n",
       " 'Europe/Astrakhan',\n",
       " 'Europe/Athens',\n",
       " 'Europe/Belfast',\n",
       " 'Europe/Belgrade',\n",
       " 'Europe/Berlin',\n",
       " 'Europe/Bratislava',\n",
       " 'Europe/Brussels',\n",
       " 'Europe/Bucharest',\n",
       " 'Europe/Budapest',\n",
       " 'Europe/Busingen',\n",
       " 'Europe/Chisinau',\n",
       " 'Europe/Copenhagen',\n",
       " 'Europe/Dublin',\n",
       " 'Europe/Gibraltar',\n",
       " 'Europe/Guernsey',\n",
       " 'Europe/Helsinki',\n",
       " 'Europe/Isle_of_Man',\n",
       " 'Europe/Istanbul',\n",
       " 'Europe/Jersey',\n",
       " 'Europe/Kaliningrad',\n",
       " 'Europe/Kiev',\n",
       " 'Europe/Kirov',\n",
       " 'Europe/Kyiv',\n",
       " 'Europe/Lisbon',\n",
       " 'Europe/Ljubljana',\n",
       " 'Europe/London',\n",
       " 'Europe/Luxembourg',\n",
       " 'Europe/Madrid',\n",
       " 'Europe/Malta',\n",
       " 'Europe/Mariehamn',\n",
       " 'Europe/Minsk',\n",
       " 'Europe/Monaco',\n",
       " 'Europe/Moscow',\n",
       " 'Europe/Nicosia',\n",
       " 'Europe/Oslo',\n",
       " 'Europe/Paris',\n",
       " 'Europe/Podgorica',\n",
       " 'Europe/Prague',\n",
       " 'Europe/Riga',\n",
       " 'Europe/Rome',\n",
       " 'Europe/Samara',\n",
       " 'Europe/San_Marino',\n",
       " 'Europe/Sarajevo',\n",
       " 'Europe/Saratov',\n",
       " 'Europe/Simferopol',\n",
       " 'Europe/Skopje',\n",
       " 'Europe/Sofia',\n",
       " 'Europe/Stockholm',\n",
       " 'Europe/Tallinn',\n",
       " 'Europe/Tirane',\n",
       " 'Europe/Tiraspol',\n",
       " 'Europe/Ulyanovsk',\n",
       " 'Europe/Uzhgorod',\n",
       " 'Europe/Vaduz',\n",
       " 'Europe/Vatican',\n",
       " 'Europe/Vienna',\n",
       " 'Europe/Vilnius',\n",
       " 'Europe/Volgograd',\n",
       " 'Europe/Warsaw',\n",
       " 'Europe/Zagreb',\n",
       " 'Europe/Zaporozhye',\n",
       " 'Europe/Zurich',\n",
       " 'GB',\n",
       " 'GB-Eire',\n",
       " 'GMT',\n",
       " 'GMT+0',\n",
       " 'GMT-0',\n",
       " 'GMT0',\n",
       " 'Greenwich',\n",
       " 'HST',\n",
       " 'Hongkong',\n",
       " 'Iceland',\n",
       " 'Indian/Antananarivo',\n",
       " 'Indian/Chagos',\n",
       " 'Indian/Christmas',\n",
       " 'Indian/Cocos',\n",
       " 'Indian/Comoro',\n",
       " 'Indian/Kerguelen',\n",
       " 'Indian/Mahe',\n",
       " 'Indian/Maldives',\n",
       " 'Indian/Mauritius',\n",
       " 'Indian/Mayotte',\n",
       " 'Indian/Reunion',\n",
       " 'Iran',\n",
       " 'Israel',\n",
       " 'Jamaica',\n",
       " 'Japan',\n",
       " 'Kwajalein',\n",
       " 'Libya',\n",
       " 'MET',\n",
       " 'MST',\n",
       " 'MST7MDT',\n",
       " 'Mexico/BajaNorte',\n",
       " 'Mexico/BajaSur',\n",
       " 'Mexico/General',\n",
       " 'NZ',\n",
       " 'NZ-CHAT',\n",
       " 'Navajo',\n",
       " 'PRC',\n",
       " 'PST8PDT',\n",
       " 'Pacific/Apia',\n",
       " 'Pacific/Auckland',\n",
       " 'Pacific/Bougainville',\n",
       " 'Pacific/Chatham',\n",
       " 'Pacific/Chuuk',\n",
       " 'Pacific/Easter',\n",
       " 'Pacific/Efate',\n",
       " 'Pacific/Enderbury',\n",
       " 'Pacific/Fakaofo',\n",
       " 'Pacific/Fiji',\n",
       " 'Pacific/Funafuti',\n",
       " 'Pacific/Galapagos',\n",
       " 'Pacific/Gambier',\n",
       " 'Pacific/Guadalcanal',\n",
       " 'Pacific/Guam',\n",
       " 'Pacific/Honolulu',\n",
       " 'Pacific/Johnston',\n",
       " 'Pacific/Kanton',\n",
       " 'Pacific/Kiritimati',\n",
       " 'Pacific/Kosrae',\n",
       " 'Pacific/Kwajalein',\n",
       " 'Pacific/Majuro',\n",
       " 'Pacific/Marquesas',\n",
       " 'Pacific/Midway',\n",
       " 'Pacific/Nauru',\n",
       " 'Pacific/Niue',\n",
       " 'Pacific/Norfolk',\n",
       " 'Pacific/Noumea',\n",
       " 'Pacific/Pago_Pago',\n",
       " 'Pacific/Palau',\n",
       " 'Pacific/Pitcairn',\n",
       " 'Pacific/Pohnpei',\n",
       " 'Pacific/Ponape',\n",
       " 'Pacific/Port_Moresby',\n",
       " 'Pacific/Rarotonga',\n",
       " 'Pacific/Saipan',\n",
       " 'Pacific/Samoa',\n",
       " 'Pacific/Tahiti',\n",
       " 'Pacific/Tarawa',\n",
       " 'Pacific/Tongatapu',\n",
       " 'Pacific/Truk',\n",
       " 'Pacific/Wake',\n",
       " 'Pacific/Wallis',\n",
       " 'Pacific/Yap',\n",
       " 'Poland',\n",
       " 'Portugal',\n",
       " 'ROC',\n",
       " 'ROK',\n",
       " 'Singapore',\n",
       " 'Turkey',\n",
       " 'UCT',\n",
       " 'US/Alaska',\n",
       " 'US/Aleutian',\n",
       " 'US/Arizona',\n",
       " 'US/Central',\n",
       " 'US/East-Indiana',\n",
       " 'US/Eastern',\n",
       " 'US/Hawaii',\n",
       " 'US/Indiana-Starke',\n",
       " 'US/Michigan',\n",
       " 'US/Mountain',\n",
       " 'US/Pacific',\n",
       " 'US/Samoa',\n",
       " 'UTC',\n",
       " 'Universal',\n",
       " 'W-SU',\n",
       " 'WET',\n",
       " 'Zulu']"
      ]
     },
     "execution_count": 215,
     "metadata": {},
     "output_type": "execute_result"
    }
   ],
   "source": [
    "#Para poder ver todas las zonas horarias (timeszones)\n",
    "pytz.all_timezones"
   ]
  },
  {
   "cell_type": "code",
   "execution_count": 217,
   "id": "d19eaa9b",
   "metadata": {},
   "outputs": [
    {
     "name": "stdout",
     "output_type": "stream",
     "text": [
      "2022-07-11 10:49:00-05:00\n"
     ]
    }
   ],
   "source": [
    "# Ejemplo: Convertir a la zona horaria de America/Lima\n",
    "tz_PER=my_timezone_info.astimezone(pytz.timezone('America/Lima'))\n",
    "print(tz_PER)"
   ]
  },
  {
   "cell_type": "code",
   "execution_count": 220,
   "id": "c1005add",
   "metadata": {},
   "outputs": [
    {
     "data": {
      "text/plain": [
       "Timestamp('2022-07-11 10:49:00-0500', tz='America/Lima')"
      ]
     },
     "execution_count": 220,
     "metadata": {},
     "output_type": "execute_result"
    }
   ],
   "source": [
    "# Convertir entre zonas horarias con Pandas\n",
    "\n",
    "#Utilizamos la variable anterior tz_PER\n",
    "tz_PER_pandas=pd.to_datetime(tz_PER)\n",
    "tz_PER_pandas"
   ]
  },
  {
   "cell_type": "code",
   "execution_count": 222,
   "id": "8fd6ff92",
   "metadata": {},
   "outputs": [
    {
     "name": "stdout",
     "output_type": "stream",
     "text": [
      "2022-07-11 15:49:00+00:00\n"
     ]
    }
   ],
   "source": [
    "tz_UTC=tz_PER_pandas.tz_convert('UTC')\n",
    "print(tz_UTC)"
   ]
  },
  {
   "cell_type": "code",
   "execution_count": 225,
   "id": "a4d0c24c",
   "metadata": {},
   "outputs": [
    {
     "data": {
      "text/plain": [
       "datetime.timedelta(days=545)"
      ]
     },
     "execution_count": 225,
     "metadata": {},
     "output_type": "execute_result"
    }
   ],
   "source": [
    "date(2018,4,7) - date(2016,10,9)"
   ]
  }
 ],
 "metadata": {
  "kernelspec": {
   "display_name": "Python 3 (ipykernel)",
   "language": "python",
   "name": "python3"
  },
  "language_info": {
   "codemirror_mode": {
    "name": "ipython",
    "version": 3
   },
   "file_extension": ".py",
   "mimetype": "text/x-python",
   "name": "python",
   "nbconvert_exporter": "python",
   "pygments_lexer": "ipython3",
   "version": "3.10.7"
  }
 },
 "nbformat": 4,
 "nbformat_minor": 5
}
